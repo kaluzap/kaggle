{
 "cells": [
  {
   "cell_type": "markdown",
   "metadata": {},
   "source": [
    "# Loading libraries and data"
   ]
  },
  {
   "cell_type": "code",
   "execution_count": 2,
   "metadata": {},
   "outputs": [],
   "source": [
    "import pandas as pd\n",
    "import matplotlib.pyplot as plt\n",
    "from sklearn.decomposition import PCA"
   ]
  },
  {
   "cell_type": "code",
   "execution_count": 3,
   "metadata": {},
   "outputs": [],
   "source": [
    "data = pd.read_csv('train.csv').sample(frac=0.1, replace=True, random_state=2)\n",
    "data = data.reset_index(drop=True)\n"
   ]
  },
  {
   "cell_type": "markdown",
   "metadata": {},
   "source": [
    "# Data characteristics"
   ]
  },
  {
   "cell_type": "code",
   "execution_count": 4,
   "metadata": {},
   "outputs": [
    {
     "name": "stdout",
     "output_type": "stream",
     "text": [
      "Shape:  (30000, 25)\n"
     ]
    },
    {
     "data": {
      "text/html": [
       "<div>\n",
       "<style scoped>\n",
       "    .dataframe tbody tr th:only-of-type {\n",
       "        vertical-align: middle;\n",
       "    }\n",
       "\n",
       "    .dataframe tbody tr th {\n",
       "        vertical-align: top;\n",
       "    }\n",
       "\n",
       "    .dataframe thead th {\n",
       "        text-align: right;\n",
       "    }\n",
       "</style>\n",
       "<table border=\"1\" class=\"dataframe\">\n",
       "  <thead>\n",
       "    <tr style=\"text-align: right;\">\n",
       "      <th></th>\n",
       "      <th>id</th>\n",
       "      <th>bin_0</th>\n",
       "      <th>bin_1</th>\n",
       "      <th>bin_2</th>\n",
       "      <th>bin_3</th>\n",
       "      <th>bin_4</th>\n",
       "      <th>nom_0</th>\n",
       "      <th>nom_1</th>\n",
       "      <th>nom_2</th>\n",
       "      <th>nom_3</th>\n",
       "      <th>...</th>\n",
       "      <th>nom_9</th>\n",
       "      <th>ord_0</th>\n",
       "      <th>ord_1</th>\n",
       "      <th>ord_2</th>\n",
       "      <th>ord_3</th>\n",
       "      <th>ord_4</th>\n",
       "      <th>ord_5</th>\n",
       "      <th>day</th>\n",
       "      <th>month</th>\n",
       "      <th>target</th>\n",
       "    </tr>\n",
       "  </thead>\n",
       "  <tbody>\n",
       "    <tr>\n",
       "      <th>0</th>\n",
       "      <td>100879</td>\n",
       "      <td>0</td>\n",
       "      <td>0</td>\n",
       "      <td>1</td>\n",
       "      <td>T</td>\n",
       "      <td>Y</td>\n",
       "      <td>Green</td>\n",
       "      <td>Circle</td>\n",
       "      <td>Lion</td>\n",
       "      <td>Russia</td>\n",
       "      <td>...</td>\n",
       "      <td>e1b66f5f2</td>\n",
       "      <td>1</td>\n",
       "      <td>Novice</td>\n",
       "      <td>Boiling Hot</td>\n",
       "      <td>c</td>\n",
       "      <td>B</td>\n",
       "      <td>ri</td>\n",
       "      <td>1</td>\n",
       "      <td>3</td>\n",
       "      <td>0</td>\n",
       "    </tr>\n",
       "    <tr>\n",
       "      <th>1</th>\n",
       "      <td>203245</td>\n",
       "      <td>0</td>\n",
       "      <td>0</td>\n",
       "      <td>0</td>\n",
       "      <td>F</td>\n",
       "      <td>Y</td>\n",
       "      <td>Blue</td>\n",
       "      <td>Trapezoid</td>\n",
       "      <td>Cat</td>\n",
       "      <td>Finland</td>\n",
       "      <td>...</td>\n",
       "      <td>506b8e5dd</td>\n",
       "      <td>1</td>\n",
       "      <td>Expert</td>\n",
       "      <td>Freezing</td>\n",
       "      <td>j</td>\n",
       "      <td>I</td>\n",
       "      <td>ZS</td>\n",
       "      <td>1</td>\n",
       "      <td>3</td>\n",
       "      <td>0</td>\n",
       "    </tr>\n",
       "    <tr>\n",
       "      <th>2</th>\n",
       "      <td>95816</td>\n",
       "      <td>0</td>\n",
       "      <td>0</td>\n",
       "      <td>1</td>\n",
       "      <td>F</td>\n",
       "      <td>Y</td>\n",
       "      <td>Blue</td>\n",
       "      <td>Square</td>\n",
       "      <td>Snake</td>\n",
       "      <td>India</td>\n",
       "      <td>...</td>\n",
       "      <td>602bcc56f</td>\n",
       "      <td>1</td>\n",
       "      <td>Novice</td>\n",
       "      <td>Freezing</td>\n",
       "      <td>g</td>\n",
       "      <td>F</td>\n",
       "      <td>tM</td>\n",
       "      <td>1</td>\n",
       "      <td>4</td>\n",
       "      <td>1</td>\n",
       "    </tr>\n",
       "    <tr>\n",
       "      <th>3</th>\n",
       "      <td>84434</td>\n",
       "      <td>0</td>\n",
       "      <td>0</td>\n",
       "      <td>0</td>\n",
       "      <td>T</td>\n",
       "      <td>N</td>\n",
       "      <td>Green</td>\n",
       "      <td>Triangle</td>\n",
       "      <td>Dog</td>\n",
       "      <td>China</td>\n",
       "      <td>...</td>\n",
       "      <td>97616a1ac</td>\n",
       "      <td>1</td>\n",
       "      <td>Grandmaster</td>\n",
       "      <td>Cold</td>\n",
       "      <td>l</td>\n",
       "      <td>Z</td>\n",
       "      <td>Uu</td>\n",
       "      <td>1</td>\n",
       "      <td>2</td>\n",
       "      <td>1</td>\n",
       "    </tr>\n",
       "    <tr>\n",
       "      <th>4</th>\n",
       "      <td>33867</td>\n",
       "      <td>0</td>\n",
       "      <td>0</td>\n",
       "      <td>0</td>\n",
       "      <td>F</td>\n",
       "      <td>Y</td>\n",
       "      <td>Red</td>\n",
       "      <td>Trapezoid</td>\n",
       "      <td>Snake</td>\n",
       "      <td>Russia</td>\n",
       "      <td>...</td>\n",
       "      <td>34058a17c</td>\n",
       "      <td>3</td>\n",
       "      <td>Master</td>\n",
       "      <td>Hot</td>\n",
       "      <td>a</td>\n",
       "      <td>Q</td>\n",
       "      <td>CM</td>\n",
       "      <td>4</td>\n",
       "      <td>1</td>\n",
       "      <td>0</td>\n",
       "    </tr>\n",
       "  </tbody>\n",
       "</table>\n",
       "<p>5 rows × 25 columns</p>\n",
       "</div>"
      ],
      "text/plain": [
       "       id  bin_0  bin_1  bin_2 bin_3 bin_4  nom_0      nom_1  nom_2    nom_3  \\\n",
       "0  100879      0      0      1     T     Y  Green     Circle   Lion   Russia   \n",
       "1  203245      0      0      0     F     Y   Blue  Trapezoid    Cat  Finland   \n",
       "2   95816      0      0      1     F     Y   Blue     Square  Snake    India   \n",
       "3   84434      0      0      0     T     N  Green   Triangle    Dog    China   \n",
       "4   33867      0      0      0     F     Y    Red  Trapezoid  Snake   Russia   \n",
       "\n",
       "   ...      nom_9 ord_0        ord_1        ord_2 ord_3 ord_4  ord_5 day  \\\n",
       "0  ...  e1b66f5f2     1       Novice  Boiling Hot     c     B     ri   1   \n",
       "1  ...  506b8e5dd     1       Expert     Freezing     j     I     ZS   1   \n",
       "2  ...  602bcc56f     1       Novice     Freezing     g     F     tM   1   \n",
       "3  ...  97616a1ac     1  Grandmaster         Cold     l     Z     Uu   1   \n",
       "4  ...  34058a17c     3       Master          Hot     a     Q     CM   4   \n",
       "\n",
       "  month target  \n",
       "0     3      0  \n",
       "1     3      0  \n",
       "2     4      1  \n",
       "3     2      1  \n",
       "4     1      0  \n",
       "\n",
       "[5 rows x 25 columns]"
      ]
     },
     "execution_count": 4,
     "metadata": {},
     "output_type": "execute_result"
    }
   ],
   "source": [
    "print(\"Shape: \", data.shape)\n",
    "data.head()"
   ]
  },
  {
   "cell_type": "code",
   "execution_count": 5,
   "metadata": {},
   "outputs": [
    {
     "name": "stdout",
     "output_type": "stream",
     "text": [
      "Unique values: 26\n",
      "They are:  ['B' 'I' 'F' 'Z' 'Q' 'U' 'X' 'G' 'E' 'A' 'S' 'P' 'D' 'J' 'W' 'R' 'K' 'H'\n",
      " 'O' 'L' 'V' 'Y' 'T' 'M' 'C' 'N']\n",
      "0    B\n",
      "1    I\n",
      "2    F\n",
      "3    Z\n",
      "4    Q\n",
      "Name: ord_4, dtype: object\n"
     ]
    }
   ],
   "source": [
    "def see_column(name):\n",
    "    print(\"Unique values:\", data[name].nunique())\n",
    "    print(\"They are: \", data[name].unique())\n",
    "    print(data[name].head())\n",
    "    \n",
    "see_column(\"ord_4\")"
   ]
  },
  {
   "cell_type": "code",
   "execution_count": 218,
   "metadata": {},
   "outputs": [
    {
     "data": {
      "text/plain": [
       "id        28536\n",
       "bin_0         2\n",
       "bin_1         2\n",
       "bin_2         2\n",
       "bin_3         2\n",
       "bin_4         2\n",
       "nom_0         3\n",
       "nom_1         6\n",
       "nom_2         6\n",
       "nom_3         6\n",
       "nom_4         4\n",
       "nom_5       222\n",
       "nom_6       519\n",
       "nom_7      1199\n",
       "nom_8      2143\n",
       "nom_9      9629\n",
       "ord_0         3\n",
       "ord_1         5\n",
       "ord_2         6\n",
       "ord_3        15\n",
       "ord_4        26\n",
       "ord_5       192\n",
       "day           7\n",
       "month        12\n",
       "target        2\n",
       "dtype: int64"
      ]
     },
     "execution_count": 218,
     "metadata": {},
     "output_type": "execute_result"
    }
   ],
   "source": [
    "data.nunique()"
   ]
  },
  {
   "cell_type": "code",
   "execution_count": 49,
   "metadata": {},
   "outputs": [
    {
     "data": {
      "text/plain": [
       "id         int64\n",
       "bin_0      int64\n",
       "bin_1      int64\n",
       "bin_2      int64\n",
       "bin_3     object\n",
       "bin_4     object\n",
       "nom_0     object\n",
       "nom_1     object\n",
       "nom_2     object\n",
       "nom_3     object\n",
       "nom_4     object\n",
       "nom_5     object\n",
       "nom_6     object\n",
       "nom_7     object\n",
       "nom_8     object\n",
       "nom_9     object\n",
       "ord_0      int64\n",
       "ord_1     object\n",
       "ord_2     object\n",
       "ord_3     object\n",
       "ord_4     object\n",
       "ord_5     object\n",
       "day        int64\n",
       "month      int64\n",
       "target     int64\n",
       "dtype: object"
      ]
     },
     "execution_count": 49,
     "metadata": {},
     "output_type": "execute_result"
    }
   ],
   "source": [
    "data.dtypes"
   ]
  },
  {
   "cell_type": "markdown",
   "metadata": {},
   "source": [
    "# Data preprocessing and cleaning"
   ]
  },
  {
   "cell_type": "code",
   "execution_count": 6,
   "metadata": {},
   "outputs": [],
   "source": [
    "#columns that we can use directly\n",
    "ready_columns = ['bin_0', 'bin_1', 'bin_2']\n",
    "\n",
    "#categorical columns with string data\n",
    "str_categorical_columns = ['bin_3', 'bin_4', 'nom_0', 'nom_1', 'nom_2', 'nom_3', 'nom_4'] \n",
    "\n",
    "#ordinal columns\n",
    "int_ordinal_columns = ['ord_0']\n",
    "str_ordinal_columns = ['ord_1', 'ord_2', 'ord_3', 'ord_4']\n",
    "\n",
    "\n",
    "\n",
    "#categorical columns with integer data\n",
    "int_categorical_columns = ['day', 'month']\n",
    "\n",
    "#columns wiht integer alues\n",
    "real_columns = ['nom_5', 'nom_6', 'nom_7', 'nom_8', 'nom_9']\n",
    "\n",
    "#column ord_5 is processed alone.\n",
    "\n",
    "YY = data['target']"
   ]
  },
  {
   "cell_type": "markdown",
   "metadata": {},
   "source": [
    "Creating a new dataframe for ML"
   ]
  },
  {
   "cell_type": "code",
   "execution_count": 8,
   "metadata": {},
   "outputs": [
    {
     "data": {
      "text/html": [
       "<div>\n",
       "<style scoped>\n",
       "    .dataframe tbody tr th:only-of-type {\n",
       "        vertical-align: middle;\n",
       "    }\n",
       "\n",
       "    .dataframe tbody tr th {\n",
       "        vertical-align: top;\n",
       "    }\n",
       "\n",
       "    .dataframe thead th {\n",
       "        text-align: right;\n",
       "    }\n",
       "</style>\n",
       "<table border=\"1\" class=\"dataframe\">\n",
       "  <thead>\n",
       "    <tr style=\"text-align: right;\">\n",
       "      <th></th>\n",
       "      <th>0</th>\n",
       "      <th>1</th>\n",
       "      <th>2</th>\n",
       "      <th>3</th>\n",
       "      <th>4</th>\n",
       "    </tr>\n",
       "  </thead>\n",
       "  <tbody>\n",
       "    <tr>\n",
       "      <th>0</th>\n",
       "      <td>-1.267256</td>\n",
       "      <td>-1.285932</td>\n",
       "      <td>1.474857</td>\n",
       "      <td>1.049759</td>\n",
       "      <td>0.798295</td>\n",
       "    </tr>\n",
       "    <tr>\n",
       "      <th>1</th>\n",
       "      <td>0.410818</td>\n",
       "      <td>1.347219</td>\n",
       "      <td>-1.547602</td>\n",
       "      <td>0.329300</td>\n",
       "      <td>-0.698375</td>\n",
       "    </tr>\n",
       "    <tr>\n",
       "      <th>2</th>\n",
       "      <td>0.208769</td>\n",
       "      <td>-1.428566</td>\n",
       "      <td>-0.539218</td>\n",
       "      <td>-1.409446</td>\n",
       "      <td>0.240299</td>\n",
       "    </tr>\n",
       "    <tr>\n",
       "      <th>3</th>\n",
       "      <td>-1.205092</td>\n",
       "      <td>1.460951</td>\n",
       "      <td>-0.338159</td>\n",
       "      <td>-1.083494</td>\n",
       "      <td>-0.816539</td>\n",
       "    </tr>\n",
       "    <tr>\n",
       "      <th>4</th>\n",
       "      <td>1.645399</td>\n",
       "      <td>-0.319260</td>\n",
       "      <td>-1.276986</td>\n",
       "      <td>1.191555</td>\n",
       "      <td>1.113300</td>\n",
       "    </tr>\n",
       "  </tbody>\n",
       "</table>\n",
       "</div>"
      ],
      "text/plain": [
       "          0         1         2         3         4\n",
       "0 -1.267256 -1.285932  1.474857  1.049759  0.798295\n",
       "1  0.410818  1.347219 -1.547602  0.329300 -0.698375\n",
       "2  0.208769 -1.428566 -0.539218 -1.409446  0.240299\n",
       "3 -1.205092  1.460951 -0.338159 -1.083494 -0.816539\n",
       "4  1.645399 -0.319260 -1.276986  1.191555  1.113300"
      ]
     },
     "execution_count": 8,
     "metadata": {},
     "output_type": "execute_result"
    }
   ],
   "source": [
    "#function to process the data\n",
    "import string\n",
    "\n",
    "def make_good_data_frame(in_data, n_pca = 0):\n",
    "    \n",
    "    lst_df = []\n",
    "    \n",
    "    #ready dataframe RD\n",
    "    temp = in_data[ready_columns].copy()\n",
    "    lst_df.append(temp)\n",
    "    \n",
    "    \n",
    "    #String categorical dataframe SCD\n",
    "    temp = pd.get_dummies(in_data[str_categorical_columns], drop_first=True)\n",
    "    lst_df.append(temp)\n",
    "    \n",
    "    \n",
    "    #ordinal columns\n",
    "    lst_df.append(in_data['ord_0'])\n",
    "    mapping = {\"ord_1\": {'Grandmaster':4, 'Expert':2, 'Novice':0, 'Contributor':1, 'Master':3},\n",
    "               \"ord_2\": {'Cold':1, 'Hot':3, 'Lava Hot':5, 'Boiling Hot':4, 'Freezing':0, 'Warm':2},\n",
    "               \"ord_3\": {'a':1, 'c':3, 'j':10, 'g':7, 'l':12, 'i':9, 'h':8, 'o':15, 'k':11, 'd':4, 'e':5, 'b':2, 'f':6, 'n':14, 'm':13},\n",
    "               \"ord_4\": {'B':2, 'I':9, 'F':6, 'Z':26, 'Q':17, 'U':21, 'X':24, 'G':7, 'E':5, 'A':1, 'S':19, 'P':16, 'D':4, 'J':10, 'W':23, 'R':18, 'K':11, 'H':8,\n",
    "                        'O':15, 'L':12, 'V':22, 'Y':25, 'T':20, 'M':13, 'C':3, 'N':14}}\n",
    "    temp = in_data[str_ordinal_columns].replace(mapping).copy()\n",
    "    lst_df.append(temp)\n",
    "    \n",
    "    \n",
    "    #Integer categorical dataframe ICD\n",
    "    temp = pd.DataFrame(index = in_data.index)\n",
    "    for name in int_categorical_columns:\n",
    "        tt = pd.get_dummies(in_data[name], drop_first=True)\n",
    "        temp = pd.merge(temp, tt, left_index=True, right_index=True)\n",
    "    #lst_df.append(temp)\n",
    "    \n",
    "    \n",
    "    #real columns\n",
    "    temp = pd.DataFrame(index = in_data.index)\n",
    "    for c in real_columns:\n",
    "        temp[c] = in_data[c].apply(lambda x : int(x, 16))\n",
    "    #lst_df.append(temp)\n",
    "    \n",
    "    \n",
    "    #ord_5\n",
    "    temp = in_data['ord_5'].apply(lambda x : string.ascii_letters.index(x[0])*52 + string.ascii_letters.index(x[1])).copy()\n",
    "    #lst_df.append(temp)\n",
    "    \n",
    "    \n",
    "    \n",
    "    #mergin all the dataframes\n",
    "    result = pd.DataFrame(index = in_data.index)\n",
    "    for x in lst_df:\n",
    "        result = pd.merge(result, x, left_index=True, right_index=True)\n",
    "    \n",
    "    #normalization\n",
    "    result = ((result - result.min())/(result.max() - result.min()) - 0.5)*2.0\n",
    "    \n",
    "    #PCA\n",
    "    if n_pca == 0:\n",
    "        return result\n",
    "    \n",
    "    pca = PCA(n_components=n_pca)\n",
    "    principalComponents = pca.fit_transform(result)\n",
    "    result = pd.DataFrame(principalComponents)\n",
    "    \n",
    "    return result\n",
    "   \n",
    "\n",
    "XX = make_good_data_frame(data, 5)\n",
    "XX.head()"
   ]
  },
  {
   "cell_type": "code",
   "execution_count": 255,
   "metadata": {},
   "outputs": [
    {
     "name": "stdout",
     "output_type": "stream",
     "text": [
      "Unique values: 192\n",
      "They are:  [-0.33927246  1.         -0.23979213  0.7891611   0.10764662 -0.56867112\n",
      " -0.35337788 -0.34743875 -0.09576837  0.66740906  0.0081663   0.8671121\n",
      " -0.77876763  0.05048255 -0.49443207 -0.36451373 -0.55382331  0.42613215\n",
      " -0.17297699  0.10690423  0.68893838 -0.61247216  0.61247216 -0.82331106\n",
      "  0.35115071 -0.74164811  0.91536748 -0.88047513 -0.95991091 -0.97327394\n",
      "  0.39198218 -0.85671863  0.11952487  0.97921307 -0.29175947  0.22048998\n",
      "  0.63028953  0.6481069  -0.04602821 -0.90497402 -0.45137342 -0.45879733\n",
      "  0.04305865  0.6250928   0.25538233 -0.40905716  0.2345954  -0.52932442\n",
      " -0.19673348  0.48626578  0.44914625  0.11358575  0.27913883 -0.59317001\n",
      " -0.13734224 -0.83964365 -0.85523385 -0.00222717  0.55605048 -0.97847068\n",
      " -0.35708983  0.89532294 -0.57980698  0.5389755   0.7735709   0.51150705\n",
      "  0.25092799  0.85300668 -0.1640683  -0.97104677  0.40014848 -0.72605791\n",
      " -0.69784707 -0.80326652 -0.21529324  0.49517446  0.19747587  0.80400891\n",
      " -0.37342242  0.76763177  0.81662955  0.48255382  0.13511507  0.71714922\n",
      " -0.85597624  0.16926503  0.16109874  0.04157387 -0.65924276 -0.72011878\n",
      " -0.27171492  0.74610245  0.15887157  0.36377134 -0.97178916 -0.21158129\n",
      " -0.30734967  0.69858946 -0.61915367 -0.2969562   0.89606533 -0.22717149\n",
      " -0.07349666 -1.         -0.93689681 -0.26948775 -0.36822569 -0.53674833\n",
      "  0.5077951  -0.55976244 -0.60282108 -0.81588716  0.57461024 -0.54936897\n",
      "  0.61915367  0.82999258 -0.65107647  0.42019302 -0.03786192  0.33778768\n",
      " -0.46325167  0.87379362  0.1172977  -0.85449146  0.20564217  0.06310319\n",
      " -0.43429844 -0.28507795  0.93170007 -0.74387528 -0.53749072 -0.3674833\n",
      " -0.84780995  0.62063846 -0.88864143 -0.91314031 -0.58871566 -0.23756496\n",
      " -0.58797327  0.14699332 -0.82999258  0.00890869  0.99925761  0.5003712\n",
      " -0.44023756  0.9294729  -0.59465479  0.25983667  0.94951745 -0.91685226\n",
      " -0.203415    0.03266518  0.38604306 -0.33407572 -0.93986637  0.59465479\n",
      " -0.98589458  0.60059391  0.68225687  0.06013363 -0.70378619  0.78173719\n",
      "  0.9688196   0.54342984 -0.42242019 -0.59910913 -0.62138085 -0.84632517\n",
      "  0.68596882  0.47364514 -0.437268   -0.86340015 -0.25241277 -0.43652561\n",
      "  0.31328879 -0.21232368  0.67631774 -0.35783222 -0.86562732  0.46919079\n",
      "  0.08760208 -0.6874536  -0.13437268  0.35337788 -0.21603563 -0.90051967\n",
      "  0.14253898 -0.58129176 -0.64291017 -0.84261321 -0.08314774 -0.17891611]\n",
      "0   -0.339272\n",
      "1    1.000000\n",
      "2   -0.239792\n",
      "3    0.789161\n",
      "4    0.107647\n",
      "Name: ord_5, dtype: float64\n"
     ]
    }
   ],
   "source": [
    "def see_column(name):\n",
    "    print(\"Unique values:\", XX[name].nunique())\n",
    "    print(\"They are: \", XX[name].unique())\n",
    "    print(XX[name].head())\n",
    "    \n",
    "see_column(\"ord_5\")"
   ]
  },
  {
   "cell_type": "markdown",
   "metadata": {},
   "source": [
    "# Clusterings"
   ]
  },
  {
   "cell_type": "code",
   "execution_count": 9,
   "metadata": {},
   "outputs": [],
   "source": [
    "from sklearn.cluster import KMeans\n",
    "\n",
    "\n",
    "kmeans = KMeans(n_clusters=2, random_state=0).fit(XX)"
   ]
  },
  {
   "cell_type": "code",
   "execution_count": 252,
   "metadata": {},
   "outputs": [
    {
     "data": {
      "text/plain": [
       "array([0, 1, 1, ..., 1, 0, 1], dtype=int32)"
      ]
     },
     "execution_count": 252,
     "metadata": {},
     "output_type": "execute_result"
    }
   ],
   "source": [
    "kmeans.labels_"
   ]
  },
  {
   "cell_type": "code",
   "execution_count": 10,
   "metadata": {},
   "outputs": [
    {
     "name": "stdout",
     "output_type": "stream",
     "text": [
      "0.5537666666666667\n"
     ]
    }
   ],
   "source": [
    "goods=0\n",
    "for x,y in zip(kmeans.labels_, data['target']):\n",
    "    if x == y:\n",
    "        goods += 1\n",
    "result = goods/len(data)\n",
    "\n",
    "if result < 0.5:\n",
    "    print(1-result)\n",
    "else:\n",
    "    print(result)"
   ]
  },
  {
   "cell_type": "code",
   "execution_count": 209,
   "metadata": {},
   "outputs": [
    {
     "data": {
      "text/plain": [
       "array([[-1.22199341,  0.05095275, -0.02385086,  0.02467001, -0.00392842,\n",
       "        -0.01538097,  0.0062057 ,  0.03759604, -0.00930818,  0.00411062],\n",
       "       [ 0.89609085, -0.03736378,  0.0174899 , -0.01809058,  0.00288072,\n",
       "         0.0112789 , -0.00455065, -0.02756927,  0.00682571, -0.00301433]])"
      ]
     },
     "execution_count": 209,
     "metadata": {},
     "output_type": "execute_result"
    }
   ],
   "source": [
    "kmeans.cluster_centers_"
   ]
  },
  {
   "cell_type": "code",
   "execution_count": null,
   "metadata": {},
   "outputs": [],
   "source": []
  },
  {
   "cell_type": "code",
   "execution_count": 11,
   "metadata": {},
   "outputs": [
    {
     "data": {
      "text/plain": [
       "<matplotlib.collections.PathCollection at 0x7fe112da0b00>"
      ]
     },
     "execution_count": 11,
     "metadata": {},
     "output_type": "execute_result"
    },
    {
     "data": {
      "image/png": "[encoded data removed]",
      "text/plain": [
       "<Figure size 432x288 with 1 Axes>"
      ]
     },
     "metadata": {},
     "output_type": "display_data"
    }
   ],
   "source": [
    "plt.scatter(XX[0], XX[1], c = data['target'])"
   ]
  },
  {
   "cell_type": "code",
   "execution_count": 12,
   "metadata": {},
   "outputs": [
    {
     "data": {
      "text/plain": [
       "array([ 0,  1,  2, ..., 36, 11, 12])"
      ]
     },
     "execution_count": 12,
     "metadata": {},
     "output_type": "execute_result"
    }
   ],
   "source": [
    "from sklearn.cluster import DBSCAN\n",
    "db = DBSCAN(eps=1.0, min_samples=10).fit(XX)\n",
    "db.labels_"
   ]
  },
  {
   "cell_type": "code",
   "execution_count": 13,
   "metadata": {},
   "outputs": [
    {
     "name": "stdout",
     "output_type": "stream",
     "text": [
      "0.020233333333333332\n"
     ]
    }
   ],
   "source": [
    "goods=0\n",
    "for x,y in zip(db.labels_, data['target']):\n",
    "    if x == y:\n",
    "        goods += 1\n",
    "result = goods/len(data)\n",
    "\n",
    "print(result)"
   ]
  }
 ],
 "metadata": {
  "kernelspec": {
   "display_name": "Python 3",
   "language": "python",
   "name": "python3"
  },
  "language_info": {
   "codemirror_mode": {
    "name": "ipython",
    "version": 3
   },
   "file_extension": ".py",
   "mimetype": "text/x-python",
   "name": "python",
   "nbconvert_exporter": "python",
   "pygments_lexer": "ipython3",
   "version": "3.6.8"
  }
 },
 "nbformat": 4,
 "nbformat_minor": 2
}
