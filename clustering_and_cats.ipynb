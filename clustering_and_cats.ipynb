{
 "cells": [
  {
   "cell_type": "markdown",
   "metadata": {},
   "source": [
    "# Loading libraries and data"
   ]
  },
  {
   "cell_type": "code",
   "execution_count": 2,
   "metadata": {},
   "outputs": [],
   "source": [
    "import pandas as pd\n",
    "import matplotlib.pyplot as plt\n",
    "from sklearn.decomposition import PCA"
   ]
  },
  {
   "cell_type": "code",
   "execution_count": 91,
   "metadata": {},
   "outputs": [],
   "source": [
    "data = pd.read_csv('train.csv').sample(frac=0.1, replace=True, random_state=2)\n",
    "data = data.reset_index(drop=True)\n"
   ]
  },
  {
   "cell_type": "markdown",
   "metadata": {},
   "source": [
    "# Data characteristics"
   ]
  },
  {
   "cell_type": "code",
   "execution_count": 92,
   "metadata": {},
   "outputs": [
    {
     "name": "stdout",
     "output_type": "stream",
     "text": [
      "Shape:  (30000, 25)\n"
     ]
    },
    {
     "data": {
      "text/html": [
       "<div>\n",
       "<style scoped>\n",
       "    .dataframe tbody tr th:only-of-type {\n",
       "        vertical-align: middle;\n",
       "    }\n",
       "\n",
       "    .dataframe tbody tr th {\n",
       "        vertical-align: top;\n",
       "    }\n",
       "\n",
       "    .dataframe thead th {\n",
       "        text-align: right;\n",
       "    }\n",
       "</style>\n",
       "<table border=\"1\" class=\"dataframe\">\n",
       "  <thead>\n",
       "    <tr style=\"text-align: right;\">\n",
       "      <th></th>\n",
       "      <th>id</th>\n",
       "      <th>bin_0</th>\n",
       "      <th>bin_1</th>\n",
       "      <th>bin_2</th>\n",
       "      <th>bin_3</th>\n",
       "      <th>bin_4</th>\n",
       "      <th>nom_0</th>\n",
       "      <th>nom_1</th>\n",
       "      <th>nom_2</th>\n",
       "      <th>nom_3</th>\n",
       "      <th>...</th>\n",
       "      <th>nom_9</th>\n",
       "      <th>ord_0</th>\n",
       "      <th>ord_1</th>\n",
       "      <th>ord_2</th>\n",
       "      <th>ord_3</th>\n",
       "      <th>ord_4</th>\n",
       "      <th>ord_5</th>\n",
       "      <th>day</th>\n",
       "      <th>month</th>\n",
       "      <th>target</th>\n",
       "    </tr>\n",
       "  </thead>\n",
       "  <tbody>\n",
       "    <tr>\n",
       "      <th>0</th>\n",
       "      <td>100879</td>\n",
       "      <td>0</td>\n",
       "      <td>0</td>\n",
       "      <td>1</td>\n",
       "      <td>T</td>\n",
       "      <td>Y</td>\n",
       "      <td>Green</td>\n",
       "      <td>Circle</td>\n",
       "      <td>Lion</td>\n",
       "      <td>Russia</td>\n",
       "      <td>...</td>\n",
       "      <td>e1b66f5f2</td>\n",
       "      <td>1</td>\n",
       "      <td>Novice</td>\n",
       "      <td>Boiling Hot</td>\n",
       "      <td>c</td>\n",
       "      <td>B</td>\n",
       "      <td>ri</td>\n",
       "      <td>1</td>\n",
       "      <td>3</td>\n",
       "      <td>0</td>\n",
       "    </tr>\n",
       "    <tr>\n",
       "      <th>1</th>\n",
       "      <td>203245</td>\n",
       "      <td>0</td>\n",
       "      <td>0</td>\n",
       "      <td>0</td>\n",
       "      <td>F</td>\n",
       "      <td>Y</td>\n",
       "      <td>Blue</td>\n",
       "      <td>Trapezoid</td>\n",
       "      <td>Cat</td>\n",
       "      <td>Finland</td>\n",
       "      <td>...</td>\n",
       "      <td>506b8e5dd</td>\n",
       "      <td>1</td>\n",
       "      <td>Expert</td>\n",
       "      <td>Freezing</td>\n",
       "      <td>j</td>\n",
       "      <td>I</td>\n",
       "      <td>ZS</td>\n",
       "      <td>1</td>\n",
       "      <td>3</td>\n",
       "      <td>0</td>\n",
       "    </tr>\n",
       "    <tr>\n",
       "      <th>2</th>\n",
       "      <td>95816</td>\n",
       "      <td>0</td>\n",
       "      <td>0</td>\n",
       "      <td>1</td>\n",
       "      <td>F</td>\n",
       "      <td>Y</td>\n",
       "      <td>Blue</td>\n",
       "      <td>Square</td>\n",
       "      <td>Snake</td>\n",
       "      <td>India</td>\n",
       "      <td>...</td>\n",
       "      <td>602bcc56f</td>\n",
       "      <td>1</td>\n",
       "      <td>Novice</td>\n",
       "      <td>Freezing</td>\n",
       "      <td>g</td>\n",
       "      <td>F</td>\n",
       "      <td>tM</td>\n",
       "      <td>1</td>\n",
       "      <td>4</td>\n",
       "      <td>1</td>\n",
       "    </tr>\n",
       "    <tr>\n",
       "      <th>3</th>\n",
       "      <td>84434</td>\n",
       "      <td>0</td>\n",
       "      <td>0</td>\n",
       "      <td>0</td>\n",
       "      <td>T</td>\n",
       "      <td>N</td>\n",
       "      <td>Green</td>\n",
       "      <td>Triangle</td>\n",
       "      <td>Dog</td>\n",
       "      <td>China</td>\n",
       "      <td>...</td>\n",
       "      <td>97616a1ac</td>\n",
       "      <td>1</td>\n",
       "      <td>Grandmaster</td>\n",
       "      <td>Cold</td>\n",
       "      <td>l</td>\n",
       "      <td>Z</td>\n",
       "      <td>Uu</td>\n",
       "      <td>1</td>\n",
       "      <td>2</td>\n",
       "      <td>1</td>\n",
       "    </tr>\n",
       "    <tr>\n",
       "      <th>4</th>\n",
       "      <td>33867</td>\n",
       "      <td>0</td>\n",
       "      <td>0</td>\n",
       "      <td>0</td>\n",
       "      <td>F</td>\n",
       "      <td>Y</td>\n",
       "      <td>Red</td>\n",
       "      <td>Trapezoid</td>\n",
       "      <td>Snake</td>\n",
       "      <td>Russia</td>\n",
       "      <td>...</td>\n",
       "      <td>34058a17c</td>\n",
       "      <td>3</td>\n",
       "      <td>Master</td>\n",
       "      <td>Hot</td>\n",
       "      <td>a</td>\n",
       "      <td>Q</td>\n",
       "      <td>CM</td>\n",
       "      <td>4</td>\n",
       "      <td>1</td>\n",
       "      <td>0</td>\n",
       "    </tr>\n",
       "  </tbody>\n",
       "</table>\n",
       "<p>5 rows × 25 columns</p>\n",
       "</div>"
      ],
      "text/plain": [
       "       id  bin_0  bin_1  bin_2 bin_3 bin_4  nom_0      nom_1  nom_2    nom_3  \\\n",
       "0  100879      0      0      1     T     Y  Green     Circle   Lion   Russia   \n",
       "1  203245      0      0      0     F     Y   Blue  Trapezoid    Cat  Finland   \n",
       "2   95816      0      0      1     F     Y   Blue     Square  Snake    India   \n",
       "3   84434      0      0      0     T     N  Green   Triangle    Dog    China   \n",
       "4   33867      0      0      0     F     Y    Red  Trapezoid  Snake   Russia   \n",
       "\n",
       "   ...      nom_9 ord_0        ord_1        ord_2 ord_3 ord_4  ord_5 day  \\\n",
       "0  ...  e1b66f5f2     1       Novice  Boiling Hot     c     B     ri   1   \n",
       "1  ...  506b8e5dd     1       Expert     Freezing     j     I     ZS   1   \n",
       "2  ...  602bcc56f     1       Novice     Freezing     g     F     tM   1   \n",
       "3  ...  97616a1ac     1  Grandmaster         Cold     l     Z     Uu   1   \n",
       "4  ...  34058a17c     3       Master          Hot     a     Q     CM   4   \n",
       "\n",
       "  month target  \n",
       "0     3      0  \n",
       "1     3      0  \n",
       "2     4      1  \n",
       "3     2      1  \n",
       "4     1      0  \n",
       "\n",
       "[5 rows x 25 columns]"
      ]
     },
     "execution_count": 92,
     "metadata": {},
     "output_type": "execute_result"
    }
   ],
   "source": [
    "print(\"Shape: \", data.shape)\n",
    "data.head()"
   ]
  },
  {
   "cell_type": "code",
   "execution_count": 93,
   "metadata": {},
   "outputs": [
    {
     "data": {
      "text/plain": [
       "id        28536\n",
       "bin_0         2\n",
       "bin_1         2\n",
       "bin_2         2\n",
       "bin_3         2\n",
       "bin_4         2\n",
       "nom_0         3\n",
       "nom_1         6\n",
       "nom_2         6\n",
       "nom_3         6\n",
       "nom_4         4\n",
       "nom_5       222\n",
       "nom_6       519\n",
       "nom_7      1199\n",
       "nom_8      2143\n",
       "nom_9      9629\n",
       "ord_0         3\n",
       "ord_1         5\n",
       "ord_2         6\n",
       "ord_3        15\n",
       "ord_4        26\n",
       "ord_5       192\n",
       "day           7\n",
       "month        12\n",
       "target        2\n",
       "dtype: int64"
      ]
     },
     "execution_count": 93,
     "metadata": {},
     "output_type": "execute_result"
    }
   ],
   "source": [
    "data.nunique()"
   ]
  },
  {
   "cell_type": "code",
   "execution_count": 94,
   "metadata": {},
   "outputs": [
    {
     "data": {
      "text/plain": [
       "id         int64\n",
       "bin_0      int64\n",
       "bin_1      int64\n",
       "bin_2      int64\n",
       "bin_3     object\n",
       "bin_4     object\n",
       "nom_0     object\n",
       "nom_1     object\n",
       "nom_2     object\n",
       "nom_3     object\n",
       "nom_4     object\n",
       "nom_5     object\n",
       "nom_6     object\n",
       "nom_7     object\n",
       "nom_8     object\n",
       "nom_9     object\n",
       "ord_0      int64\n",
       "ord_1     object\n",
       "ord_2     object\n",
       "ord_3     object\n",
       "ord_4     object\n",
       "ord_5     object\n",
       "day        int64\n",
       "month      int64\n",
       "target     int64\n",
       "dtype: object"
      ]
     },
     "execution_count": 94,
     "metadata": {},
     "output_type": "execute_result"
    }
   ],
   "source": [
    "data.dtypes"
   ]
  },
  {
   "cell_type": "markdown",
   "metadata": {},
   "source": [
    "# Data preprocessing and cleaning"
   ]
  },
  {
   "cell_type": "code",
   "execution_count": 95,
   "metadata": {},
   "outputs": [],
   "source": [
    "#columns that we can use directly\n",
    "ready_columns = ['bin_0', 'bin_1', 'bin_2']\n",
    "\n",
    "#categorical columns with string data\n",
    "str_categorical_columns = ['bin_3', 'bin_4', 'nom_0', 'nom_1', 'nom_2', 'nom_3', 'nom_4', 'ord_1', 'ord_2', 'ord_3', 'ord_4']\n",
    "\n",
    "#categorical columns with integer data\n",
    "int_categorical_columns = ['ord_0', 'day', 'month']\n",
    "\n",
    "#columns wiht integer alues\n",
    "real_columns = ['nom_5', 'nom_6', 'nom_7', 'nom_8', 'nom_9']\n",
    "\n",
    "#column ord_5 is processed alone.\n",
    "\n",
    "YY = data['target']"
   ]
  },
  {
   "cell_type": "markdown",
   "metadata": {},
   "source": [
    "Creating a new dataframe for ML"
   ]
  },
  {
   "cell_type": "code",
   "execution_count": 100,
   "metadata": {},
   "outputs": [
    {
     "data": {
      "text/html": [
       "<div>\n",
       "<style scoped>\n",
       "    .dataframe tbody tr th:only-of-type {\n",
       "        vertical-align: middle;\n",
       "    }\n",
       "\n",
       "    .dataframe tbody tr th {\n",
       "        vertical-align: top;\n",
       "    }\n",
       "\n",
       "    .dataframe thead th {\n",
       "        text-align: right;\n",
       "    }\n",
       "</style>\n",
       "<table border=\"1\" class=\"dataframe\">\n",
       "  <thead>\n",
       "    <tr style=\"text-align: right;\">\n",
       "      <th></th>\n",
       "      <th>0</th>\n",
       "      <th>1</th>\n",
       "      <th>2</th>\n",
       "      <th>3</th>\n",
       "      <th>4</th>\n",
       "    </tr>\n",
       "  </thead>\n",
       "  <tbody>\n",
       "    <tr>\n",
       "      <th>0</th>\n",
       "      <td>-0.656893</td>\n",
       "      <td>-0.607426</td>\n",
       "      <td>-0.623346</td>\n",
       "      <td>0.451209</td>\n",
       "      <td>0.632137</td>\n",
       "    </tr>\n",
       "    <tr>\n",
       "      <th>1</th>\n",
       "      <td>0.252320</td>\n",
       "      <td>0.167531</td>\n",
       "      <td>0.678132</td>\n",
       "      <td>-0.718085</td>\n",
       "      <td>-0.749068</td>\n",
       "    </tr>\n",
       "    <tr>\n",
       "      <th>2</th>\n",
       "      <td>-0.669434</td>\n",
       "      <td>0.137141</td>\n",
       "      <td>-0.696778</td>\n",
       "      <td>-0.767759</td>\n",
       "      <td>-0.049604</td>\n",
       "    </tr>\n",
       "    <tr>\n",
       "      <th>3</th>\n",
       "      <td>0.735309</td>\n",
       "      <td>-0.607054</td>\n",
       "      <td>0.680216</td>\n",
       "      <td>-0.103474</td>\n",
       "      <td>-0.082478</td>\n",
       "    </tr>\n",
       "    <tr>\n",
       "      <th>4</th>\n",
       "      <td>0.267044</td>\n",
       "      <td>0.839398</td>\n",
       "      <td>-0.131006</td>\n",
       "      <td>0.252828</td>\n",
       "      <td>-0.734837</td>\n",
       "    </tr>\n",
       "  </tbody>\n",
       "</table>\n",
       "</div>"
      ],
      "text/plain": [
       "          0         1         2         3         4\n",
       "0 -0.656893 -0.607426 -0.623346  0.451209  0.632137\n",
       "1  0.252320  0.167531  0.678132 -0.718085 -0.749068\n",
       "2 -0.669434  0.137141 -0.696778 -0.767759 -0.049604\n",
       "3  0.735309 -0.607054  0.680216 -0.103474 -0.082478\n",
       "4  0.267044  0.839398 -0.131006  0.252828 -0.734837"
      ]
     },
     "execution_count": 100,
     "metadata": {},
     "output_type": "execute_result"
    }
   ],
   "source": [
    "#function to process the data\n",
    "\n",
    "def make_good_data_frame(in_data, n_pca = 0):\n",
    "    #ready dataframe RD\n",
    "    RD = in_data[ready_columns].copy()\n",
    "\n",
    "    #String categorical dataframe SCD\n",
    "    SCD = pd.get_dummies(in_data[str_categorical_columns], drop_first=True) \n",
    "\n",
    "    #Integer categorical dataframe ICD\n",
    "    ICD = pd.get_dummies(in_data[int_categorical_columns[0]], drop_first=True)\n",
    "    for i in range(1, len(int_categorical_columns)):\n",
    "        temp_df = pd.get_dummies(in_data[int_categorical_columns[i]], drop_first=True)\n",
    "        ICD = pd.merge(ICD, temp_df, left_index=True, right_index=True)\n",
    "        \n",
    "    #real columns\n",
    "    realD = pd.DataFrame()\n",
    "    for c in real_columns:\n",
    "        realD[c] = in_data[c].apply(lambda x : int(x, 16))\n",
    "    #realD = (realD - realD.mean())/realD.std()\n",
    "    realD = (realD - realD.min())/(realD.max() - realD.min())\n",
    "    \n",
    "    #ord_5\n",
    "    ord_5_D = pd.DataFrame()\n",
    "    ord_5_D['ord_5'] = in_data['ord_5'].apply(lambda x : ord(x[0]) + ord(x[1]))\n",
    "    #ord_5_D = (ord_5_D - ord_5_D.mean())/ord_5_D.std()\n",
    "    ord_5_D = (ord_5_D - ord_5_D.min())/(ord_5_D.max() - ord_5_D.min())\n",
    "\n",
    "    result = pd.merge(RD, SCD, left_index=True, right_index=True)\n",
    "    result = pd.merge(result, ICD, left_index=True, right_index=True)\n",
    "    result = pd.merge(result, realD, left_index=True, right_index=True)\n",
    "    result = pd.merge(result, ord_5_D, left_index=True, right_index=True)\n",
    "    \n",
    "    \n",
    "    #PCA\n",
    "    if n_pca == 0:\n",
    "        return result\n",
    "    \n",
    "    pca = PCA(n_components=n_pca)\n",
    "    principalComponents = pca.fit_transform(result)\n",
    "    result = pd.DataFrame(principalComponents)\n",
    "    \n",
    "    return result\n",
    "\n",
    "XX = make_good_data_frame(data, 5)\n",
    "XX.head()"
   ]
  },
  {
   "cell_type": "markdown",
   "metadata": {},
   "source": [
    "# Clusterings"
   ]
  },
  {
   "cell_type": "code",
   "execution_count": 101,
   "metadata": {},
   "outputs": [],
   "source": [
    "from sklearn.cluster import KMeans\n",
    "\n",
    "\n",
    "kmeans = KMeans(n_clusters=2, random_state=0).fit(XX)"
   ]
  },
  {
   "cell_type": "code",
   "execution_count": 102,
   "metadata": {},
   "outputs": [
    {
     "data": {
      "text/plain": [
       "array([1, 0, 1, ..., 1, 0, 0], dtype=int32)"
      ]
     },
     "execution_count": 102,
     "metadata": {},
     "output_type": "execute_result"
    }
   ],
   "source": [
    "kmeans.labels_"
   ]
  },
  {
   "cell_type": "code",
   "execution_count": 103,
   "metadata": {},
   "outputs": [
    {
     "name": "stdout",
     "output_type": "stream",
     "text": [
      "0.4765\n"
     ]
    }
   ],
   "source": [
    "goods=0\n",
    "for x,y in zip(kmeans.labels_, data['target']):\n",
    "    if x == y:\n",
    "        goods += 1\n",
    "print(goods/len(data))"
   ]
  },
  {
   "cell_type": "code",
   "execution_count": 66,
   "metadata": {},
   "outputs": [
    {
     "data": {
      "text/plain": [
       "array([[ 0.58360847,  0.17933948, -0.03601322],\n",
       "       [-0.36896248, -0.11338002,  0.02276788]])"
      ]
     },
     "execution_count": 66,
     "metadata": {},
     "output_type": "execute_result"
    }
   ],
   "source": [
    "kmeans.cluster_centers_"
   ]
  },
  {
   "cell_type": "code",
   "execution_count": 81,
   "metadata": {},
   "outputs": [
    {
     "data": {
      "text/plain": [
       "<matplotlib.collections.PathCollection at 0x7f1e740a4a90>"
      ]
     },
     "execution_count": 81,
     "metadata": {},
     "output_type": "execute_result"
    },
    {
     "data": {
      "image/png": "[encoded data removed]",
      "text/plain": [
       "<Figure size 432x288 with 1 Axes>"
      ]
     },
     "metadata": {},
     "output_type": "display_data"
    }
   ],
   "source": [
    "plt.scatter(kmeans.labels_, data['target'])"
   ]
  }
 ],
 "metadata": {
  "kernelspec": {
   "display_name": "Python 3",
   "language": "python",
   "name": "python3"
  },
  "language_info": {
   "codemirror_mode": {
    "name": "ipython",
    "version": 3
   },
   "file_extension": ".py",
   "mimetype": "text/x-python",
   "name": "python",
   "nbconvert_exporter": "python",
   "pygments_lexer": "ipython3",
   "version": "3.6.8"
  }
 },
 "nbformat": 4,
 "nbformat_minor": 2
}
