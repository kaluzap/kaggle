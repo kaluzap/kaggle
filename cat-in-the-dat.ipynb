{
 "cells": [
  {
   "cell_type": "markdown",
   "metadata": {},
   "source": [
    "# Loading libraries and data"
   ]
  },
  {
   "cell_type": "code",
   "execution_count": 44,
   "metadata": {},
   "outputs": [],
   "source": [
    "import pandas as pd\n",
    "import matplotlib.pyplot as plt\n",
    "from sklearn.decomposition import PCA"
   ]
  },
  {
   "cell_type": "code",
   "execution_count": 45,
   "metadata": {},
   "outputs": [],
   "source": [
    "data = pd.read_csv('train.csv').sample(frac=1.0, replace=True, random_state=2)\n",
    "data = data.reset_index(drop=True)\n"
   ]
  },
  {
   "cell_type": "markdown",
   "metadata": {},
   "source": [
    "# Data characteristics"
   ]
  },
  {
   "cell_type": "code",
   "execution_count": 46,
   "metadata": {},
   "outputs": [
    {
     "name": "stdout",
     "output_type": "stream",
     "text": [
      "Shape:  (300000, 25)\n"
     ]
    },
    {
     "data": {
      "text/html": [
       "<div>\n",
       "<style scoped>\n",
       "    .dataframe tbody tr th:only-of-type {\n",
       "        vertical-align: middle;\n",
       "    }\n",
       "\n",
       "    .dataframe tbody tr th {\n",
       "        vertical-align: top;\n",
       "    }\n",
       "\n",
       "    .dataframe thead th {\n",
       "        text-align: right;\n",
       "    }\n",
       "</style>\n",
       "<table border=\"1\" class=\"dataframe\">\n",
       "  <thead>\n",
       "    <tr style=\"text-align: right;\">\n",
       "      <th></th>\n",
       "      <th>id</th>\n",
       "      <th>bin_0</th>\n",
       "      <th>bin_1</th>\n",
       "      <th>bin_2</th>\n",
       "      <th>bin_3</th>\n",
       "      <th>bin_4</th>\n",
       "      <th>nom_0</th>\n",
       "      <th>nom_1</th>\n",
       "      <th>nom_2</th>\n",
       "      <th>nom_3</th>\n",
       "      <th>...</th>\n",
       "      <th>nom_9</th>\n",
       "      <th>ord_0</th>\n",
       "      <th>ord_1</th>\n",
       "      <th>ord_2</th>\n",
       "      <th>ord_3</th>\n",
       "      <th>ord_4</th>\n",
       "      <th>ord_5</th>\n",
       "      <th>day</th>\n",
       "      <th>month</th>\n",
       "      <th>target</th>\n",
       "    </tr>\n",
       "  </thead>\n",
       "  <tbody>\n",
       "    <tr>\n",
       "      <th>0</th>\n",
       "      <td>100879</td>\n",
       "      <td>0</td>\n",
       "      <td>0</td>\n",
       "      <td>1</td>\n",
       "      <td>T</td>\n",
       "      <td>Y</td>\n",
       "      <td>Green</td>\n",
       "      <td>Circle</td>\n",
       "      <td>Lion</td>\n",
       "      <td>Russia</td>\n",
       "      <td>...</td>\n",
       "      <td>e1b66f5f2</td>\n",
       "      <td>1</td>\n",
       "      <td>Novice</td>\n",
       "      <td>Boiling Hot</td>\n",
       "      <td>c</td>\n",
       "      <td>B</td>\n",
       "      <td>ri</td>\n",
       "      <td>1</td>\n",
       "      <td>3</td>\n",
       "      <td>0</td>\n",
       "    </tr>\n",
       "    <tr>\n",
       "      <th>1</th>\n",
       "      <td>203245</td>\n",
       "      <td>0</td>\n",
       "      <td>0</td>\n",
       "      <td>0</td>\n",
       "      <td>F</td>\n",
       "      <td>Y</td>\n",
       "      <td>Blue</td>\n",
       "      <td>Trapezoid</td>\n",
       "      <td>Cat</td>\n",
       "      <td>Finland</td>\n",
       "      <td>...</td>\n",
       "      <td>506b8e5dd</td>\n",
       "      <td>1</td>\n",
       "      <td>Expert</td>\n",
       "      <td>Freezing</td>\n",
       "      <td>j</td>\n",
       "      <td>I</td>\n",
       "      <td>ZS</td>\n",
       "      <td>1</td>\n",
       "      <td>3</td>\n",
       "      <td>0</td>\n",
       "    </tr>\n",
       "    <tr>\n",
       "      <th>2</th>\n",
       "      <td>95816</td>\n",
       "      <td>0</td>\n",
       "      <td>0</td>\n",
       "      <td>1</td>\n",
       "      <td>F</td>\n",
       "      <td>Y</td>\n",
       "      <td>Blue</td>\n",
       "      <td>Square</td>\n",
       "      <td>Snake</td>\n",
       "      <td>India</td>\n",
       "      <td>...</td>\n",
       "      <td>602bcc56f</td>\n",
       "      <td>1</td>\n",
       "      <td>Novice</td>\n",
       "      <td>Freezing</td>\n",
       "      <td>g</td>\n",
       "      <td>F</td>\n",
       "      <td>tM</td>\n",
       "      <td>1</td>\n",
       "      <td>4</td>\n",
       "      <td>1</td>\n",
       "    </tr>\n",
       "    <tr>\n",
       "      <th>3</th>\n",
       "      <td>84434</td>\n",
       "      <td>0</td>\n",
       "      <td>0</td>\n",
       "      <td>0</td>\n",
       "      <td>T</td>\n",
       "      <td>N</td>\n",
       "      <td>Green</td>\n",
       "      <td>Triangle</td>\n",
       "      <td>Dog</td>\n",
       "      <td>China</td>\n",
       "      <td>...</td>\n",
       "      <td>97616a1ac</td>\n",
       "      <td>1</td>\n",
       "      <td>Grandmaster</td>\n",
       "      <td>Cold</td>\n",
       "      <td>l</td>\n",
       "      <td>Z</td>\n",
       "      <td>Uu</td>\n",
       "      <td>1</td>\n",
       "      <td>2</td>\n",
       "      <td>1</td>\n",
       "    </tr>\n",
       "    <tr>\n",
       "      <th>4</th>\n",
       "      <td>33867</td>\n",
       "      <td>0</td>\n",
       "      <td>0</td>\n",
       "      <td>0</td>\n",
       "      <td>F</td>\n",
       "      <td>Y</td>\n",
       "      <td>Red</td>\n",
       "      <td>Trapezoid</td>\n",
       "      <td>Snake</td>\n",
       "      <td>Russia</td>\n",
       "      <td>...</td>\n",
       "      <td>34058a17c</td>\n",
       "      <td>3</td>\n",
       "      <td>Master</td>\n",
       "      <td>Hot</td>\n",
       "      <td>a</td>\n",
       "      <td>Q</td>\n",
       "      <td>CM</td>\n",
       "      <td>4</td>\n",
       "      <td>1</td>\n",
       "      <td>0</td>\n",
       "    </tr>\n",
       "  </tbody>\n",
       "</table>\n",
       "<p>5 rows × 25 columns</p>\n",
       "</div>"
      ],
      "text/plain": [
       "       id  bin_0  bin_1  bin_2 bin_3 bin_4  nom_0      nom_1  nom_2    nom_3  \\\n",
       "0  100879      0      0      1     T     Y  Green     Circle   Lion   Russia   \n",
       "1  203245      0      0      0     F     Y   Blue  Trapezoid    Cat  Finland   \n",
       "2   95816      0      0      1     F     Y   Blue     Square  Snake    India   \n",
       "3   84434      0      0      0     T     N  Green   Triangle    Dog    China   \n",
       "4   33867      0      0      0     F     Y    Red  Trapezoid  Snake   Russia   \n",
       "\n",
       "   ...      nom_9 ord_0        ord_1        ord_2 ord_3 ord_4  ord_5 day  \\\n",
       "0  ...  e1b66f5f2     1       Novice  Boiling Hot     c     B     ri   1   \n",
       "1  ...  506b8e5dd     1       Expert     Freezing     j     I     ZS   1   \n",
       "2  ...  602bcc56f     1       Novice     Freezing     g     F     tM   1   \n",
       "3  ...  97616a1ac     1  Grandmaster         Cold     l     Z     Uu   1   \n",
       "4  ...  34058a17c     3       Master          Hot     a     Q     CM   4   \n",
       "\n",
       "  month target  \n",
       "0     3      0  \n",
       "1     3      0  \n",
       "2     4      1  \n",
       "3     2      1  \n",
       "4     1      0  \n",
       "\n",
       "[5 rows x 25 columns]"
      ]
     },
     "execution_count": 46,
     "metadata": {},
     "output_type": "execute_result"
    }
   ],
   "source": [
    "print(\"Shape: \", data.shape)\n",
    "data.head()"
   ]
  },
  {
   "cell_type": "code",
   "execution_count": 47,
   "metadata": {},
   "outputs": [
    {
     "data": {
      "text/plain": [
       "id        189775\n",
       "bin_0          2\n",
       "bin_1          2\n",
       "bin_2          2\n",
       "bin_3          2\n",
       "bin_4          2\n",
       "nom_0          3\n",
       "nom_1          6\n",
       "nom_2          6\n",
       "nom_3          6\n",
       "nom_4          4\n",
       "nom_5        222\n",
       "nom_6        522\n",
       "nom_7       1219\n",
       "nom_8       2211\n",
       "nom_9      11849\n",
       "ord_0          3\n",
       "ord_1          5\n",
       "ord_2          6\n",
       "ord_3         15\n",
       "ord_4         26\n",
       "ord_5        192\n",
       "day            7\n",
       "month         12\n",
       "target         2\n",
       "dtype: int64"
      ]
     },
     "execution_count": 47,
     "metadata": {},
     "output_type": "execute_result"
    }
   ],
   "source": [
    "data.nunique()"
   ]
  },
  {
   "cell_type": "code",
   "execution_count": 48,
   "metadata": {},
   "outputs": [
    {
     "data": {
      "text/plain": [
       "id         int64\n",
       "bin_0      int64\n",
       "bin_1      int64\n",
       "bin_2      int64\n",
       "bin_3     object\n",
       "bin_4     object\n",
       "nom_0     object\n",
       "nom_1     object\n",
       "nom_2     object\n",
       "nom_3     object\n",
       "nom_4     object\n",
       "nom_5     object\n",
       "nom_6     object\n",
       "nom_7     object\n",
       "nom_8     object\n",
       "nom_9     object\n",
       "ord_0      int64\n",
       "ord_1     object\n",
       "ord_2     object\n",
       "ord_3     object\n",
       "ord_4     object\n",
       "ord_5     object\n",
       "day        int64\n",
       "month      int64\n",
       "target     int64\n",
       "dtype: object"
      ]
     },
     "execution_count": 48,
     "metadata": {},
     "output_type": "execute_result"
    }
   ],
   "source": [
    "data.dtypes"
   ]
  },
  {
   "cell_type": "markdown",
   "metadata": {},
   "source": [
    "# Data preprocessing and cleaning"
   ]
  },
  {
   "cell_type": "code",
   "execution_count": 49,
   "metadata": {},
   "outputs": [],
   "source": [
    "#columns that we can use directly\n",
    "ready_columns = ['bin_0', 'bin_1', 'bin_2']\n",
    "\n",
    "#categorical columns with string data\n",
    "str_categorical_columns = ['bin_3', 'bin_4', 'nom_0', 'nom_1', 'nom_2', 'nom_3', 'nom_4', 'ord_1', 'ord_2', 'ord_3', 'ord_4']\n",
    "\n",
    "#categorical columns with integer data\n",
    "int_categorical_columns = ['ord_0', 'day', 'month']\n",
    "\n",
    "#columns wiht integer alues\n",
    "real_columns = ['nom_5', 'nom_6', 'nom_7', 'nom_8', 'nom_9']\n",
    "\n",
    "#column ord_5 is processed alone.\n",
    "\n",
    "YY = data['target']"
   ]
  },
  {
   "cell_type": "markdown",
   "metadata": {},
   "source": [
    "Creating a new dataframe for ML"
   ]
  },
  {
   "cell_type": "code",
   "execution_count": 50,
   "metadata": {},
   "outputs": [
    {
     "data": {
      "text/html": [
       "<div>\n",
       "<style scoped>\n",
       "    .dataframe tbody tr th:only-of-type {\n",
       "        vertical-align: middle;\n",
       "    }\n",
       "\n",
       "    .dataframe tbody tr th {\n",
       "        vertical-align: top;\n",
       "    }\n",
       "\n",
       "    .dataframe thead th {\n",
       "        text-align: right;\n",
       "    }\n",
       "</style>\n",
       "<table border=\"1\" class=\"dataframe\">\n",
       "  <thead>\n",
       "    <tr style=\"text-align: right;\">\n",
       "      <th></th>\n",
       "      <th>0</th>\n",
       "      <th>1</th>\n",
       "      <th>2</th>\n",
       "    </tr>\n",
       "  </thead>\n",
       "  <tbody>\n",
       "    <tr>\n",
       "      <th>0</th>\n",
       "      <td>-0.549101</td>\n",
       "      <td>-0.685457</td>\n",
       "      <td>-0.653430</td>\n",
       "    </tr>\n",
       "    <tr>\n",
       "      <th>1</th>\n",
       "      <td>0.161980</td>\n",
       "      <td>0.253001</td>\n",
       "      <td>0.562874</td>\n",
       "    </tr>\n",
       "    <tr>\n",
       "      <th>2</th>\n",
       "      <td>-0.620076</td>\n",
       "      <td>0.127584</td>\n",
       "      <td>-0.736810</td>\n",
       "    </tr>\n",
       "    <tr>\n",
       "      <th>3</th>\n",
       "      <td>0.761128</td>\n",
       "      <td>-0.562084</td>\n",
       "      <td>0.847519</td>\n",
       "    </tr>\n",
       "    <tr>\n",
       "      <th>4</th>\n",
       "      <td>0.184292</td>\n",
       "      <td>0.844665</td>\n",
       "      <td>-0.319058</td>\n",
       "    </tr>\n",
       "  </tbody>\n",
       "</table>\n",
       "</div>"
      ],
      "text/plain": [
       "          0         1         2\n",
       "0 -0.549101 -0.685457 -0.653430\n",
       "1  0.161980  0.253001  0.562874\n",
       "2 -0.620076  0.127584 -0.736810\n",
       "3  0.761128 -0.562084  0.847519\n",
       "4  0.184292  0.844665 -0.319058"
      ]
     },
     "execution_count": 50,
     "metadata": {},
     "output_type": "execute_result"
    }
   ],
   "source": [
    "#function to process the data\n",
    "\n",
    "def make_good_data_frame(in_data, n_pca = 0):\n",
    "    #ready dataframe RD\n",
    "    RD = in_data[ready_columns].copy()\n",
    "\n",
    "    #String categorical dataframe SCD\n",
    "    SCD = pd.get_dummies(in_data[str_categorical_columns], drop_first=True) \n",
    "\n",
    "    #Integer categorical dataframe ICD\n",
    "    ICD = pd.get_dummies(in_data[int_categorical_columns[0]], drop_first=True)\n",
    "    for i in range(1, len(int_categorical_columns)):\n",
    "        temp_df = pd.get_dummies(in_data[int_categorical_columns[i]], drop_first=True)\n",
    "        ICD = pd.merge(ICD, temp_df, left_index=True, right_index=True)\n",
    "        \n",
    "    #real columns\n",
    "    realD = pd.DataFrame()\n",
    "    for c in real_columns:\n",
    "        realD[c] = in_data[c].apply(lambda x : int(x, 16))\n",
    "    #realD = (realD - realD.mean())/realD.std()\n",
    "    realD = (realD - realD.min())/(realD.max() - realD.min())\n",
    "    \n",
    "    #ord_5\n",
    "    ord_5_D = pd.DataFrame()\n",
    "    ord_5_D['ord_5'] = in_data['ord_5'].apply(lambda x : ord(x[0]) + ord(x[1]))\n",
    "    #ord_5_D = (ord_5_D - ord_5_D.mean())/ord_5_D.std()\n",
    "    ord_5_D = (ord_5_D - ord_5_D.min())/(ord_5_D.max() - ord_5_D.min())\n",
    "\n",
    "    result = pd.merge(RD, SCD, left_index=True, right_index=True)\n",
    "    result = pd.merge(result, ICD, left_index=True, right_index=True)\n",
    "    result = pd.merge(result, realD, left_index=True, right_index=True)\n",
    "    result = pd.merge(result, ord_5_D, left_index=True, right_index=True)\n",
    "    \n",
    "    #PCA\n",
    "    if n_pca == 0:\n",
    "        return result\n",
    "    \n",
    "    pca = PCA(n_components=n_pca)\n",
    "    principalComponents = pca.fit_transform(result)\n",
    "    result = pd.DataFrame(principalComponents)\n",
    "    \n",
    "    return result\n",
    "\n",
    "XX = make_good_data_frame(data, 3)\n",
    "XX.head()"
   ]
  },
  {
   "cell_type": "markdown",
   "metadata": {},
   "source": [
    "New training and test dataframes"
   ]
  },
  {
   "cell_type": "code",
   "execution_count": 51,
   "metadata": {},
   "outputs": [],
   "source": [
    "import numpy as np\n",
    "from sklearn.model_selection import train_test_split\n",
    "\n",
    "X_train, X_test, y_train, y_test = train_test_split(XX, YY, test_size = 0.2, random_state = 2)"
   ]
  },
  {
   "cell_type": "markdown",
   "metadata": {},
   "source": [
    "# ML section"
   ]
  },
  {
   "cell_type": "code",
   "execution_count": 52,
   "metadata": {},
   "outputs": [],
   "source": [
    "from sklearn.metrics import confusion_matrix"
   ]
  },
  {
   "cell_type": "markdown",
   "metadata": {},
   "source": [
    "1) Logistic Regression"
   ]
  },
  {
   "cell_type": "code",
   "execution_count": 53,
   "metadata": {},
   "outputs": [
    {
     "data": {
      "text/plain": [
       "LogisticRegression(C=1.0, class_weight=None, dual=False, fit_intercept=True,\n",
       "                   intercept_scaling=1, l1_ratio=None, max_iter=1000,\n",
       "                   multi_class='warn', n_jobs=None, penalty='l2',\n",
       "                   random_state=0, solver='lbfgs', tol=0.0001, verbose=0,\n",
       "                   warm_start=False)"
      ]
     },
     "execution_count": 53,
     "metadata": {},
     "output_type": "execute_result"
    }
   ],
   "source": [
    "from sklearn.linear_model import LogisticRegression\n",
    "\n",
    "LR_clf = LogisticRegression(random_state=0, solver='lbfgs', max_iter = 1000)\n",
    "LR_clf.fit(X_train, y_train)"
   ]
  },
  {
   "cell_type": "code",
   "execution_count": 54,
   "metadata": {},
   "outputs": [
    {
     "name": "stdout",
     "output_type": "stream",
     "text": [
      "LR score training =  0.695\n"
     ]
    },
    {
     "data": {
      "text/plain": [
       "array([[166904,      0],\n",
       "       [ 73096,      0]])"
      ]
     },
     "execution_count": 54,
     "metadata": {},
     "output_type": "execute_result"
    }
   ],
   "source": [
    "lr_z_train = LR_clf.predict(X_train)\n",
    "print(\"LR score training = \", round(LR_clf.score(X_train, y_train),3))\n",
    "confusion_matrix(y_train, lr_z_train)"
   ]
  },
  {
   "cell_type": "code",
   "execution_count": 55,
   "metadata": {},
   "outputs": [
    {
     "name": "stdout",
     "output_type": "stream",
     "text": [
      "LR score test =  0.692\n"
     ]
    },
    {
     "data": {
      "text/plain": [
       "array([[41500,     0],\n",
       "       [18500,     0]])"
      ]
     },
     "execution_count": 55,
     "metadata": {},
     "output_type": "execute_result"
    }
   ],
   "source": [
    "lr_z_test = LR_clf.predict(X_test)\n",
    "print(\"LR score test = \", round(LR_clf.score(X_test, y_test),3))\n",
    "confusion_matrix(y_test, lr_z_test)"
   ]
  },
  {
   "cell_type": "markdown",
   "metadata": {},
   "source": [
    "2) K Neighbors Classifier"
   ]
  },
  {
   "cell_type": "code",
   "execution_count": 56,
   "metadata": {},
   "outputs": [
    {
     "data": {
      "text/plain": [
       "KNeighborsClassifier(algorithm='auto', leaf_size=30, metric='minkowski',\n",
       "                     metric_params=None, n_jobs=None, n_neighbors=3, p=2,\n",
       "                     weights='uniform')"
      ]
     },
     "execution_count": 56,
     "metadata": {},
     "output_type": "execute_result"
    }
   ],
   "source": [
    "from sklearn.neighbors import KNeighborsClassifier\n",
    "\n",
    "k_clf = KNeighborsClassifier(n_neighbors=3)\n",
    "k_clf.fit(X_train, y_train)"
   ]
  },
  {
   "cell_type": "code",
   "execution_count": 57,
   "metadata": {},
   "outputs": [
    {
     "name": "stdout",
     "output_type": "stream",
     "text": [
      "K-N score training =  0.877\n"
     ]
    },
    {
     "data": {
      "text/plain": [
       "array([[154947,  11957],\n",
       "       [ 17540,  55556]])"
      ]
     },
     "execution_count": 57,
     "metadata": {},
     "output_type": "execute_result"
    }
   ],
   "source": [
    "k_z_train = k_clf.predict(X_train)\n",
    "print(\"K-N score training = \", round(k_clf.score(X_train, y_train),3))\n",
    "confusion_matrix(y_train, k_z_train)"
   ]
  },
  {
   "cell_type": "code",
   "execution_count": 58,
   "metadata": {},
   "outputs": [
    {
     "name": "stdout",
     "output_type": "stream",
     "text": [
      "K-N score test =  0.727\n"
     ]
    },
    {
     "data": {
      "text/plain": [
       "array([[34368,  7132],\n",
       "       [ 9254,  9246]])"
      ]
     },
     "execution_count": 58,
     "metadata": {},
     "output_type": "execute_result"
    }
   ],
   "source": [
    "k_z_test = k_clf.predict(X_test)\n",
    "print(\"K-N score test = \", round(k_clf.score(X_test, y_test),3))\n",
    "confusion_matrix(y_test, k_z_test)"
   ]
  },
  {
   "cell_type": "markdown",
   "metadata": {},
   "source": [
    "3) Random Forest"
   ]
  },
  {
   "cell_type": "code",
   "execution_count": 59,
   "metadata": {},
   "outputs": [
    {
     "data": {
      "text/plain": [
       "RandomForestClassifier(bootstrap=True, class_weight=None, criterion='gini',\n",
       "                       max_depth=10, max_features='auto', max_leaf_nodes=None,\n",
       "                       min_impurity_decrease=0.0, min_impurity_split=None,\n",
       "                       min_samples_leaf=1, min_samples_split=2,\n",
       "                       min_weight_fraction_leaf=0.0, n_estimators=100,\n",
       "                       n_jobs=None, oob_score=False, random_state=0, verbose=0,\n",
       "                       warm_start=False)"
      ]
     },
     "execution_count": 59,
     "metadata": {},
     "output_type": "execute_result"
    }
   ],
   "source": [
    "from sklearn.ensemble import RandomForestClassifier\n",
    "\n",
    "\n",
    "rf_clf = RandomForestClassifier(n_estimators=100, max_depth=10, random_state=0)\n",
    "rf_clf.fit(X_train, y_train)"
   ]
  },
  {
   "cell_type": "code",
   "execution_count": 60,
   "metadata": {},
   "outputs": [
    {
     "name": "stdout",
     "output_type": "stream",
     "text": [
      "RF score training =  0.706\n"
     ]
    },
    {
     "data": {
      "text/plain": [
       "array([[166367,    537],\n",
       "       [ 69922,   3174]])"
      ]
     },
     "execution_count": 60,
     "metadata": {},
     "output_type": "execute_result"
    }
   ],
   "source": [
    "rf_z_train = rf_clf.predict(X_train)\n",
    "print(\"RF score training = \", round(rf_clf.score(X_train, y_train),3))\n",
    "confusion_matrix(y_train, rf_z_train)"
   ]
  },
  {
   "cell_type": "code",
   "execution_count": 61,
   "metadata": {},
   "outputs": [
    {
     "name": "stdout",
     "output_type": "stream",
     "text": [
      "RF score test =  0.697\n"
     ]
    },
    {
     "data": {
      "text/plain": [
       "array([[41219,   281],\n",
       "       [17895,   605]])"
      ]
     },
     "execution_count": 61,
     "metadata": {},
     "output_type": "execute_result"
    }
   ],
   "source": [
    "rf_z_test = rf_clf.predict(X_test)\n",
    "print(\"RF score test = \", round(rf_clf.score(X_test, y_test),3))\n",
    "confusion_matrix(y_test, rf_z_test)"
   ]
  },
  {
   "cell_type": "markdown",
   "metadata": {},
   "source": [
    "\n",
    "4) Support vector machine"
   ]
  },
  {
   "cell_type": "code",
   "execution_count": 62,
   "metadata": {},
   "outputs": [
    {
     "data": {
      "text/plain": [
       "SVC(C=1.0, cache_size=200, class_weight=None, coef0=0.0,\n",
       "    decision_function_shape='ovr', degree=3, gamma='scale', kernel='rbf',\n",
       "    max_iter=-1, probability=False, random_state=None, shrinking=True,\n",
       "    tol=0.001, verbose=False)"
      ]
     },
     "execution_count": 62,
     "metadata": {},
     "output_type": "execute_result"
    }
   ],
   "source": [
    "from sklearn import svm\n",
    "\n",
    "svm_clf = svm.SVC(gamma='scale')\n",
    "svm_clf.fit(X_train, y_train)"
   ]
  },
  {
   "cell_type": "code",
   "execution_count": null,
   "metadata": {},
   "outputs": [],
   "source": [
    "sv_z_train = svm_clf.predict(X_train)\n",
    "print(\"SV score training = \", round(svm_clf.score(X_train, y_train),3))\n",
    "confusion_matrix(y_train, sv_z_train)"
   ]
  },
  {
   "cell_type": "code",
   "execution_count": 35,
   "metadata": {},
   "outputs": [
    {
     "name": "stdout",
     "output_type": "stream",
     "text": [
      "SV score test =  0.712\n"
     ]
    },
    {
     "data": {
      "text/plain": [
       "array([[402,  19],\n",
       "       [154,  25]])"
      ]
     },
     "execution_count": 35,
     "metadata": {},
     "output_type": "execute_result"
    }
   ],
   "source": [
    "sv_z_test = svm_clf.predict(X_test)\n",
    "print(\"SV score test = \", round(svm_clf.score(X_test, y_test),3))\n",
    "confusion_matrix(y_test, sv_z_test)"
   ]
  },
  {
   "cell_type": "markdown",
   "metadata": {},
   "source": [
    "# Submission"
   ]
  },
  {
   "cell_type": "code",
   "execution_count": 63,
   "metadata": {},
   "outputs": [
    {
     "data": {
      "text/html": [
       "<div>\n",
       "<style scoped>\n",
       "    .dataframe tbody tr th:only-of-type {\n",
       "        vertical-align: middle;\n",
       "    }\n",
       "\n",
       "    .dataframe tbody tr th {\n",
       "        vertical-align: top;\n",
       "    }\n",
       "\n",
       "    .dataframe thead th {\n",
       "        text-align: right;\n",
       "    }\n",
       "</style>\n",
       "<table border=\"1\" class=\"dataframe\">\n",
       "  <thead>\n",
       "    <tr style=\"text-align: right;\">\n",
       "      <th></th>\n",
       "      <th>0</th>\n",
       "      <th>1</th>\n",
       "      <th>2</th>\n",
       "    </tr>\n",
       "  </thead>\n",
       "  <tbody>\n",
       "    <tr>\n",
       "      <th>0</th>\n",
       "      <td>-0.558026</td>\n",
       "      <td>0.336950</td>\n",
       "      <td>-0.644392</td>\n",
       "    </tr>\n",
       "    <tr>\n",
       "      <th>1</th>\n",
       "      <td>0.451451</td>\n",
       "      <td>0.700010</td>\n",
       "      <td>-0.689224</td>\n",
       "    </tr>\n",
       "    <tr>\n",
       "      <th>2</th>\n",
       "      <td>0.251651</td>\n",
       "      <td>0.133490</td>\n",
       "      <td>-0.679956</td>\n",
       "    </tr>\n",
       "    <tr>\n",
       "      <th>3</th>\n",
       "      <td>0.379444</td>\n",
       "      <td>0.744108</td>\n",
       "      <td>-0.664869</td>\n",
       "    </tr>\n",
       "    <tr>\n",
       "      <th>4</th>\n",
       "      <td>0.948338</td>\n",
       "      <td>0.582886</td>\n",
       "      <td>-0.632522</td>\n",
       "    </tr>\n",
       "  </tbody>\n",
       "</table>\n",
       "</div>"
      ],
      "text/plain": [
       "          0         1         2\n",
       "0 -0.558026  0.336950 -0.644392\n",
       "1  0.451451  0.700010 -0.689224\n",
       "2  0.251651  0.133490 -0.679956\n",
       "3  0.379444  0.744108 -0.664869\n",
       "4  0.948338  0.582886 -0.632522"
      ]
     },
     "execution_count": 63,
     "metadata": {},
     "output_type": "execute_result"
    }
   ],
   "source": [
    "test_data = pd.read_csv('test.csv')\n",
    "\n",
    "XXt = make_good_data_frame(test_data, 3)\n",
    "\n",
    "XXt.head()"
   ]
  },
  {
   "cell_type": "code",
   "execution_count": 42,
   "metadata": {},
   "outputs": [
    {
     "data": {
      "text/plain": [
       "array([0, 0, 0, ..., 0, 0, 0])"
      ]
     },
     "execution_count": 42,
     "metadata": {},
     "output_type": "execute_result"
    }
   ],
   "source": [
    "xxt_prediction = svm_clf.predict(XXt)\n",
    "xxt_prediction"
   ]
  },
  {
   "cell_type": "code",
   "execution_count": 30,
   "metadata": {},
   "outputs": [
    {
     "data": {
      "text/html": [
       "<div>\n",
       "<style scoped>\n",
       "    .dataframe tbody tr th:only-of-type {\n",
       "        vertical-align: middle;\n",
       "    }\n",
       "\n",
       "    .dataframe tbody tr th {\n",
       "        vertical-align: top;\n",
       "    }\n",
       "\n",
       "    .dataframe thead th {\n",
       "        text-align: right;\n",
       "    }\n",
       "</style>\n",
       "<table border=\"1\" class=\"dataframe\">\n",
       "  <thead>\n",
       "    <tr style=\"text-align: right;\">\n",
       "      <th></th>\n",
       "      <th>id</th>\n",
       "      <th>target</th>\n",
       "    </tr>\n",
       "  </thead>\n",
       "  <tbody>\n",
       "    <tr>\n",
       "      <th>0</th>\n",
       "      <td>300000</td>\n",
       "      <td>0.0</td>\n",
       "    </tr>\n",
       "    <tr>\n",
       "      <th>1</th>\n",
       "      <td>300001</td>\n",
       "      <td>0.0</td>\n",
       "    </tr>\n",
       "    <tr>\n",
       "      <th>2</th>\n",
       "      <td>300002</td>\n",
       "      <td>0.0</td>\n",
       "    </tr>\n",
       "    <tr>\n",
       "      <th>3</th>\n",
       "      <td>300003</td>\n",
       "      <td>0.0</td>\n",
       "    </tr>\n",
       "    <tr>\n",
       "      <th>4</th>\n",
       "      <td>300004</td>\n",
       "      <td>0.0</td>\n",
       "    </tr>\n",
       "  </tbody>\n",
       "</table>\n",
       "</div>"
      ],
      "text/plain": [
       "       id  target\n",
       "0  300000     0.0\n",
       "1  300001     0.0\n",
       "2  300002     0.0\n",
       "3  300003     0.0\n",
       "4  300004     0.0"
      ]
     },
     "execution_count": 30,
     "metadata": {},
     "output_type": "execute_result"
    }
   ],
   "source": [
    "xxt_prediction = pd.DataFrame(xxt_prediction)\n",
    "xxt_prediction.columns = ['target']\n",
    "\n",
    "xxt_prediction['target'] = pd.to_numeric(xxt_prediction['target'], downcast='float')\n",
    "\n",
    "result = pd.merge(test_data, xxt_prediction, left_index=True, right_index=True)\n",
    "\n",
    "result[['id','target']].head()"
   ]
  },
  {
   "cell_type": "code",
   "execution_count": 31,
   "metadata": {},
   "outputs": [],
   "source": [
    "result[['id','target']].to_csv(\"submission.csv\", index=False)"
   ]
  }
 ],
 "metadata": {
  "kernelspec": {
   "display_name": "Python 3",
   "language": "python",
   "name": "python3"
  },
  "language_info": {
   "codemirror_mode": {
    "name": "ipython",
    "version": 3
   },
   "file_extension": ".py",
   "mimetype": "text/x-python",
   "name": "python",
   "nbconvert_exporter": "python",
   "pygments_lexer": "ipython3",
   "version": "3.6.8"
  }
 },
 "nbformat": 4,
 "nbformat_minor": 2
}
