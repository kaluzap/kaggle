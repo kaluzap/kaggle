{
 "cells": [
  {
   "cell_type": "markdown",
   "metadata": {},
   "source": [
    "# Loading libraries and data"
   ]
  },
  {
   "cell_type": "code",
   "execution_count": 16,
   "metadata": {},
   "outputs": [],
   "source": [
    "import pandas as pd\n",
    "import matplotlib.pyplot as plt\n",
    "from sklearn.decomposition import PCA"
   ]
  },
  {
   "cell_type": "code",
   "execution_count": 17,
   "metadata": {},
   "outputs": [],
   "source": [
    "data = pd.read_csv('train.csv').sample(frac=1, replace=True, random_state=2)\n",
    "data = data.reset_index(drop=True)"
   ]
  },
  {
   "cell_type": "markdown",
   "metadata": {},
   "source": [
    "# Data characteristics"
   ]
  },
  {
   "cell_type": "code",
   "execution_count": 18,
   "metadata": {},
   "outputs": [
    {
     "name": "stdout",
     "output_type": "stream",
     "text": [
      "Shape:  (300000, 25)\n"
     ]
    },
    {
     "data": {
      "text/html": [
       "<div>\n",
       "<style scoped>\n",
       "    .dataframe tbody tr th:only-of-type {\n",
       "        vertical-align: middle;\n",
       "    }\n",
       "\n",
       "    .dataframe tbody tr th {\n",
       "        vertical-align: top;\n",
       "    }\n",
       "\n",
       "    .dataframe thead th {\n",
       "        text-align: right;\n",
       "    }\n",
       "</style>\n",
       "<table border=\"1\" class=\"dataframe\">\n",
       "  <thead>\n",
       "    <tr style=\"text-align: right;\">\n",
       "      <th></th>\n",
       "      <th>id</th>\n",
       "      <th>bin_0</th>\n",
       "      <th>bin_1</th>\n",
       "      <th>bin_2</th>\n",
       "      <th>bin_3</th>\n",
       "      <th>bin_4</th>\n",
       "      <th>nom_0</th>\n",
       "      <th>nom_1</th>\n",
       "      <th>nom_2</th>\n",
       "      <th>nom_3</th>\n",
       "      <th>...</th>\n",
       "      <th>nom_9</th>\n",
       "      <th>ord_0</th>\n",
       "      <th>ord_1</th>\n",
       "      <th>ord_2</th>\n",
       "      <th>ord_3</th>\n",
       "      <th>ord_4</th>\n",
       "      <th>ord_5</th>\n",
       "      <th>day</th>\n",
       "      <th>month</th>\n",
       "      <th>target</th>\n",
       "    </tr>\n",
       "  </thead>\n",
       "  <tbody>\n",
       "    <tr>\n",
       "      <th>0</th>\n",
       "      <td>100879</td>\n",
       "      <td>0</td>\n",
       "      <td>0</td>\n",
       "      <td>1</td>\n",
       "      <td>T</td>\n",
       "      <td>Y</td>\n",
       "      <td>Green</td>\n",
       "      <td>Circle</td>\n",
       "      <td>Lion</td>\n",
       "      <td>Russia</td>\n",
       "      <td>...</td>\n",
       "      <td>e1b66f5f2</td>\n",
       "      <td>1</td>\n",
       "      <td>Novice</td>\n",
       "      <td>Boiling Hot</td>\n",
       "      <td>c</td>\n",
       "      <td>B</td>\n",
       "      <td>ri</td>\n",
       "      <td>1</td>\n",
       "      <td>3</td>\n",
       "      <td>0</td>\n",
       "    </tr>\n",
       "    <tr>\n",
       "      <th>1</th>\n",
       "      <td>203245</td>\n",
       "      <td>0</td>\n",
       "      <td>0</td>\n",
       "      <td>0</td>\n",
       "      <td>F</td>\n",
       "      <td>Y</td>\n",
       "      <td>Blue</td>\n",
       "      <td>Trapezoid</td>\n",
       "      <td>Cat</td>\n",
       "      <td>Finland</td>\n",
       "      <td>...</td>\n",
       "      <td>506b8e5dd</td>\n",
       "      <td>1</td>\n",
       "      <td>Expert</td>\n",
       "      <td>Freezing</td>\n",
       "      <td>j</td>\n",
       "      <td>I</td>\n",
       "      <td>ZS</td>\n",
       "      <td>1</td>\n",
       "      <td>3</td>\n",
       "      <td>0</td>\n",
       "    </tr>\n",
       "    <tr>\n",
       "      <th>2</th>\n",
       "      <td>95816</td>\n",
       "      <td>0</td>\n",
       "      <td>0</td>\n",
       "      <td>1</td>\n",
       "      <td>F</td>\n",
       "      <td>Y</td>\n",
       "      <td>Blue</td>\n",
       "      <td>Square</td>\n",
       "      <td>Snake</td>\n",
       "      <td>India</td>\n",
       "      <td>...</td>\n",
       "      <td>602bcc56f</td>\n",
       "      <td>1</td>\n",
       "      <td>Novice</td>\n",
       "      <td>Freezing</td>\n",
       "      <td>g</td>\n",
       "      <td>F</td>\n",
       "      <td>tM</td>\n",
       "      <td>1</td>\n",
       "      <td>4</td>\n",
       "      <td>1</td>\n",
       "    </tr>\n",
       "    <tr>\n",
       "      <th>3</th>\n",
       "      <td>84434</td>\n",
       "      <td>0</td>\n",
       "      <td>0</td>\n",
       "      <td>0</td>\n",
       "      <td>T</td>\n",
       "      <td>N</td>\n",
       "      <td>Green</td>\n",
       "      <td>Triangle</td>\n",
       "      <td>Dog</td>\n",
       "      <td>China</td>\n",
       "      <td>...</td>\n",
       "      <td>97616a1ac</td>\n",
       "      <td>1</td>\n",
       "      <td>Grandmaster</td>\n",
       "      <td>Cold</td>\n",
       "      <td>l</td>\n",
       "      <td>Z</td>\n",
       "      <td>Uu</td>\n",
       "      <td>1</td>\n",
       "      <td>2</td>\n",
       "      <td>1</td>\n",
       "    </tr>\n",
       "    <tr>\n",
       "      <th>4</th>\n",
       "      <td>33867</td>\n",
       "      <td>0</td>\n",
       "      <td>0</td>\n",
       "      <td>0</td>\n",
       "      <td>F</td>\n",
       "      <td>Y</td>\n",
       "      <td>Red</td>\n",
       "      <td>Trapezoid</td>\n",
       "      <td>Snake</td>\n",
       "      <td>Russia</td>\n",
       "      <td>...</td>\n",
       "      <td>34058a17c</td>\n",
       "      <td>3</td>\n",
       "      <td>Master</td>\n",
       "      <td>Hot</td>\n",
       "      <td>a</td>\n",
       "      <td>Q</td>\n",
       "      <td>CM</td>\n",
       "      <td>4</td>\n",
       "      <td>1</td>\n",
       "      <td>0</td>\n",
       "    </tr>\n",
       "  </tbody>\n",
       "</table>\n",
       "<p>5 rows × 25 columns</p>\n",
       "</div>"
      ],
      "text/plain": [
       "       id  bin_0  bin_1  bin_2 bin_3 bin_4  nom_0      nom_1  nom_2    nom_3  \\\n",
       "0  100879      0      0      1     T     Y  Green     Circle   Lion   Russia   \n",
       "1  203245      0      0      0     F     Y   Blue  Trapezoid    Cat  Finland   \n",
       "2   95816      0      0      1     F     Y   Blue     Square  Snake    India   \n",
       "3   84434      0      0      0     T     N  Green   Triangle    Dog    China   \n",
       "4   33867      0      0      0     F     Y    Red  Trapezoid  Snake   Russia   \n",
       "\n",
       "   ...      nom_9 ord_0        ord_1        ord_2 ord_3 ord_4  ord_5 day  \\\n",
       "0  ...  e1b66f5f2     1       Novice  Boiling Hot     c     B     ri   1   \n",
       "1  ...  506b8e5dd     1       Expert     Freezing     j     I     ZS   1   \n",
       "2  ...  602bcc56f     1       Novice     Freezing     g     F     tM   1   \n",
       "3  ...  97616a1ac     1  Grandmaster         Cold     l     Z     Uu   1   \n",
       "4  ...  34058a17c     3       Master          Hot     a     Q     CM   4   \n",
       "\n",
       "  month target  \n",
       "0     3      0  \n",
       "1     3      0  \n",
       "2     4      1  \n",
       "3     2      1  \n",
       "4     1      0  \n",
       "\n",
       "[5 rows x 25 columns]"
      ]
     },
     "execution_count": 18,
     "metadata": {},
     "output_type": "execute_result"
    }
   ],
   "source": [
    "print(\"Shape: \", data.shape)\n",
    "data.head()"
   ]
  },
  {
   "cell_type": "code",
   "execution_count": 4,
   "metadata": {},
   "outputs": [
    {
     "data": {
      "text/plain": [
       "id        189775\n",
       "bin_0          2\n",
       "bin_1          2\n",
       "bin_2          2\n",
       "bin_3          2\n",
       "bin_4          2\n",
       "nom_0          3\n",
       "nom_1          6\n",
       "nom_2          6\n",
       "nom_3          6\n",
       "nom_4          4\n",
       "nom_5        222\n",
       "nom_6        522\n",
       "nom_7       1219\n",
       "nom_8       2211\n",
       "nom_9      11849\n",
       "ord_0          3\n",
       "ord_1          5\n",
       "ord_2          6\n",
       "ord_3         15\n",
       "ord_4         26\n",
       "ord_5        192\n",
       "day            7\n",
       "month         12\n",
       "target         2\n",
       "dtype: int64"
      ]
     },
     "execution_count": 4,
     "metadata": {},
     "output_type": "execute_result"
    }
   ],
   "source": [
    "data.nunique()"
   ]
  },
  {
   "cell_type": "code",
   "execution_count": 5,
   "metadata": {},
   "outputs": [
    {
     "data": {
      "text/plain": [
       "id         int64\n",
       "bin_0      int64\n",
       "bin_1      int64\n",
       "bin_2      int64\n",
       "bin_3     object\n",
       "bin_4     object\n",
       "nom_0     object\n",
       "nom_1     object\n",
       "nom_2     object\n",
       "nom_3     object\n",
       "nom_4     object\n",
       "nom_5     object\n",
       "nom_6     object\n",
       "nom_7     object\n",
       "nom_8     object\n",
       "nom_9     object\n",
       "ord_0      int64\n",
       "ord_1     object\n",
       "ord_2     object\n",
       "ord_3     object\n",
       "ord_4     object\n",
       "ord_5     object\n",
       "day        int64\n",
       "month      int64\n",
       "target     int64\n",
       "dtype: object"
      ]
     },
     "execution_count": 5,
     "metadata": {},
     "output_type": "execute_result"
    }
   ],
   "source": [
    "data.dtypes"
   ]
  },
  {
   "cell_type": "markdown",
   "metadata": {},
   "source": [
    "# Data preprocessing and cleaning"
   ]
  },
  {
   "cell_type": "code",
   "execution_count": 19,
   "metadata": {},
   "outputs": [],
   "source": [
    "#columns that we can use directly\n",
    "ready_columns = ['bin_0', 'bin_1', 'bin_2']\n",
    "\n",
    "#categorical columns with string data\n",
    "str_categorical_columns = ['bin_3', 'bin_4', 'nom_0', 'nom_1', 'nom_2', 'nom_3', 'nom_4'] \n",
    "\n",
    "#ordinal columns\n",
    "int_ordinal_columns = ['ord_0']\n",
    "str_ordinal_columns = ['ord_1', 'ord_2', 'ord_3', 'ord_4']\n",
    "\n",
    "\n",
    "\n",
    "#categorical columns with integer data\n",
    "int_categorical_columns = ['day', 'month']\n",
    "\n",
    "#columns wiht integer alues\n",
    "real_columns = ['nom_5', 'nom_6', 'nom_7', 'nom_8', 'nom_9']\n",
    "\n",
    "#column ord_5 is processed alone.\n",
    "\n",
    "YY = data['target']"
   ]
  },
  {
   "cell_type": "markdown",
   "metadata": {},
   "source": [
    "Creating a new dataframe for ML"
   ]
  },
  {
   "cell_type": "code",
   "execution_count": 20,
   "metadata": {},
   "outputs": [
    {
     "data": {
      "text/html": [
       "<div>\n",
       "<style scoped>\n",
       "    .dataframe tbody tr th:only-of-type {\n",
       "        vertical-align: middle;\n",
       "    }\n",
       "\n",
       "    .dataframe tbody tr th {\n",
       "        vertical-align: top;\n",
       "    }\n",
       "\n",
       "    .dataframe thead th {\n",
       "        text-align: right;\n",
       "    }\n",
       "</style>\n",
       "<table border=\"1\" class=\"dataframe\">\n",
       "  <thead>\n",
       "    <tr style=\"text-align: right;\">\n",
       "      <th></th>\n",
       "      <th>bin_0</th>\n",
       "      <th>bin_1</th>\n",
       "      <th>bin_2</th>\n",
       "      <th>bin_3_T</th>\n",
       "      <th>bin_4_Y</th>\n",
       "      <th>nom_0_Green</th>\n",
       "      <th>nom_0_Red</th>\n",
       "      <th>nom_1_Polygon</th>\n",
       "      <th>nom_1_Square</th>\n",
       "      <th>nom_1_Star</th>\n",
       "      <th>...</th>\n",
       "      <th>9</th>\n",
       "      <th>10</th>\n",
       "      <th>11</th>\n",
       "      <th>12</th>\n",
       "      <th>nom_5</th>\n",
       "      <th>nom_6</th>\n",
       "      <th>nom_7</th>\n",
       "      <th>nom_8</th>\n",
       "      <th>nom_9</th>\n",
       "      <th>ord_5</th>\n",
       "    </tr>\n",
       "  </thead>\n",
       "  <tbody>\n",
       "    <tr>\n",
       "      <th>0</th>\n",
       "      <td>-1.0</td>\n",
       "      <td>-1.0</td>\n",
       "      <td>1.0</td>\n",
       "      <td>1.0</td>\n",
       "      <td>1.0</td>\n",
       "      <td>1.0</td>\n",
       "      <td>-1.0</td>\n",
       "      <td>-1.0</td>\n",
       "      <td>-1.0</td>\n",
       "      <td>-1.0</td>\n",
       "      <td>...</td>\n",
       "      <td>-1.0</td>\n",
       "      <td>-1.0</td>\n",
       "      <td>-1.0</td>\n",
       "      <td>-1.0</td>\n",
       "      <td>0.976434</td>\n",
       "      <td>-0.540579</td>\n",
       "      <td>0.077072</td>\n",
       "      <td>0.620118</td>\n",
       "      <td>0.763431</td>\n",
       "      <td>-0.339272</td>\n",
       "    </tr>\n",
       "    <tr>\n",
       "      <th>1</th>\n",
       "      <td>-1.0</td>\n",
       "      <td>-1.0</td>\n",
       "      <td>-1.0</td>\n",
       "      <td>-1.0</td>\n",
       "      <td>1.0</td>\n",
       "      <td>-1.0</td>\n",
       "      <td>-1.0</td>\n",
       "      <td>-1.0</td>\n",
       "      <td>-1.0</td>\n",
       "      <td>-1.0</td>\n",
       "      <td>...</td>\n",
       "      <td>-1.0</td>\n",
       "      <td>-1.0</td>\n",
       "      <td>-1.0</td>\n",
       "      <td>-1.0</td>\n",
       "      <td>-0.056445</td>\n",
       "      <td>-0.246672</td>\n",
       "      <td>-0.856991</td>\n",
       "      <td>-0.353292</td>\n",
       "      <td>-0.371800</td>\n",
       "      <td>1.000000</td>\n",
       "    </tr>\n",
       "    <tr>\n",
       "      <th>2</th>\n",
       "      <td>-1.0</td>\n",
       "      <td>-1.0</td>\n",
       "      <td>1.0</td>\n",
       "      <td>-1.0</td>\n",
       "      <td>1.0</td>\n",
       "      <td>-1.0</td>\n",
       "      <td>-1.0</td>\n",
       "      <td>-1.0</td>\n",
       "      <td>1.0</td>\n",
       "      <td>-1.0</td>\n",
       "      <td>...</td>\n",
       "      <td>-1.0</td>\n",
       "      <td>-1.0</td>\n",
       "      <td>-1.0</td>\n",
       "      <td>-1.0</td>\n",
       "      <td>0.150796</td>\n",
       "      <td>0.042395</td>\n",
       "      <td>-0.718599</td>\n",
       "      <td>-0.905704</td>\n",
       "      <td>-0.248732</td>\n",
       "      <td>-0.239792</td>\n",
       "    </tr>\n",
       "    <tr>\n",
       "      <th>3</th>\n",
       "      <td>-1.0</td>\n",
       "      <td>-1.0</td>\n",
       "      <td>-1.0</td>\n",
       "      <td>1.0</td>\n",
       "      <td>-1.0</td>\n",
       "      <td>1.0</td>\n",
       "      <td>-1.0</td>\n",
       "      <td>-1.0</td>\n",
       "      <td>-1.0</td>\n",
       "      <td>-1.0</td>\n",
       "      <td>...</td>\n",
       "      <td>-1.0</td>\n",
       "      <td>-1.0</td>\n",
       "      <td>-1.0</td>\n",
       "      <td>-1.0</td>\n",
       "      <td>0.419660</td>\n",
       "      <td>-0.250595</td>\n",
       "      <td>-0.375844</td>\n",
       "      <td>0.517312</td>\n",
       "      <td>0.182643</td>\n",
       "      <td>0.789161</td>\n",
       "    </tr>\n",
       "    <tr>\n",
       "      <th>4</th>\n",
       "      <td>-1.0</td>\n",
       "      <td>-1.0</td>\n",
       "      <td>-1.0</td>\n",
       "      <td>-1.0</td>\n",
       "      <td>1.0</td>\n",
       "      <td>-1.0</td>\n",
       "      <td>1.0</td>\n",
       "      <td>-1.0</td>\n",
       "      <td>-1.0</td>\n",
       "      <td>-1.0</td>\n",
       "      <td>...</td>\n",
       "      <td>-1.0</td>\n",
       "      <td>-1.0</td>\n",
       "      <td>-1.0</td>\n",
       "      <td>-1.0</td>\n",
       "      <td>0.150796</td>\n",
       "      <td>0.648210</td>\n",
       "      <td>0.964605</td>\n",
       "      <td>0.271891</td>\n",
       "      <td>-0.593690</td>\n",
       "      <td>0.107647</td>\n",
       "    </tr>\n",
       "  </tbody>\n",
       "</table>\n",
       "<p>5 rows × 53 columns</p>\n",
       "</div>"
      ],
      "text/plain": [
       "   bin_0  bin_1  bin_2  bin_3_T  bin_4_Y  nom_0_Green  nom_0_Red  \\\n",
       "0   -1.0   -1.0    1.0      1.0      1.0          1.0       -1.0   \n",
       "1   -1.0   -1.0   -1.0     -1.0      1.0         -1.0       -1.0   \n",
       "2   -1.0   -1.0    1.0     -1.0      1.0         -1.0       -1.0   \n",
       "3   -1.0   -1.0   -1.0      1.0     -1.0          1.0       -1.0   \n",
       "4   -1.0   -1.0   -1.0     -1.0      1.0         -1.0        1.0   \n",
       "\n",
       "   nom_1_Polygon  nom_1_Square  nom_1_Star  ...    9   10   11   12     nom_5  \\\n",
       "0           -1.0          -1.0        -1.0  ... -1.0 -1.0 -1.0 -1.0  0.976434   \n",
       "1           -1.0          -1.0        -1.0  ... -1.0 -1.0 -1.0 -1.0 -0.056445   \n",
       "2           -1.0           1.0        -1.0  ... -1.0 -1.0 -1.0 -1.0  0.150796   \n",
       "3           -1.0          -1.0        -1.0  ... -1.0 -1.0 -1.0 -1.0  0.419660   \n",
       "4           -1.0          -1.0        -1.0  ... -1.0 -1.0 -1.0 -1.0  0.150796   \n",
       "\n",
       "      nom_6     nom_7     nom_8     nom_9     ord_5  \n",
       "0 -0.540579  0.077072  0.620118  0.763431 -0.339272  \n",
       "1 -0.246672 -0.856991 -0.353292 -0.371800  1.000000  \n",
       "2  0.042395 -0.718599 -0.905704 -0.248732 -0.239792  \n",
       "3 -0.250595 -0.375844  0.517312  0.182643  0.789161  \n",
       "4  0.648210  0.964605  0.271891 -0.593690  0.107647  \n",
       "\n",
       "[5 rows x 53 columns]"
      ]
     },
     "execution_count": 20,
     "metadata": {},
     "output_type": "execute_result"
    }
   ],
   "source": [
    "#function to process the data\n",
    "import string\n",
    "\n",
    "def make_good_data_frame(in_data, n_pca = 0):\n",
    "    \n",
    "    lst_df = []\n",
    "    \n",
    "    #ready dataframe RD\n",
    "    temp = in_data[ready_columns].copy()\n",
    "    lst_df.append(temp)\n",
    "    \n",
    "    \n",
    "    #String categorical dataframe SCD\n",
    "    temp = pd.get_dummies(in_data[str_categorical_columns], drop_first=True)\n",
    "    lst_df.append(temp)\n",
    "    \n",
    "    \n",
    "    #ordinal columns\n",
    "    lst_df.append(in_data['ord_0'])\n",
    "    mapping = {\"ord_1\": {'Grandmaster':4, 'Expert':2, 'Novice':0, 'Contributor':1, 'Master':3},\n",
    "               \"ord_2\": {'Cold':1, 'Hot':3, 'Lava Hot':5, 'Boiling Hot':4, 'Freezing':0, 'Warm':2},\n",
    "               \"ord_3\": {'a':1, 'c':3, 'j':10, 'g':7, 'l':12, 'i':9, 'h':8, 'o':15, 'k':11, 'd':4, 'e':5, 'b':2, 'f':6, 'n':14, 'm':13},\n",
    "               \"ord_4\": {'B':2, 'I':9, 'F':6, 'Z':26, 'Q':17, 'U':21, 'X':24, 'G':7, 'E':5, 'A':1, 'S':19, 'P':16, 'D':4, 'J':10, 'W':23, 'R':18, 'K':11, 'H':8,\n",
    "                        'O':15, 'L':12, 'V':22, 'Y':25, 'T':20, 'M':13, 'C':3, 'N':14}}\n",
    "    temp = in_data[str_ordinal_columns].replace(mapping).copy()\n",
    "    lst_df.append(temp)\n",
    "    \n",
    "    \n",
    "    #Integer categorical dataframe ICD\n",
    "    temp = pd.DataFrame(index = in_data.index)\n",
    "    for name in int_categorical_columns:\n",
    "        tt = pd.get_dummies(in_data[name], drop_first=True)\n",
    "        temp = pd.merge(temp, tt, left_index=True, right_index=True)\n",
    "    lst_df.append(temp)\n",
    "    \n",
    "    \n",
    "    #real columns\n",
    "    temp = pd.DataFrame(index = in_data.index)\n",
    "    for c in real_columns:\n",
    "        temp[c] = in_data[c].apply(lambda x : int(x, 16))\n",
    "    lst_df.append(temp)\n",
    "    \n",
    "    \n",
    "    #ord_5\n",
    "    temp = in_data['ord_5'].apply(lambda x : string.ascii_letters.index(x[0])*52 + string.ascii_letters.index(x[1])).copy()\n",
    "    lst_df.append(temp)\n",
    "    \n",
    "    \n",
    "    \n",
    "    #mergin all the dataframes\n",
    "    result = pd.DataFrame(index = in_data.index)\n",
    "    for x in lst_df:\n",
    "        result = pd.merge(result, x, left_index=True, right_index=True)\n",
    "    \n",
    "    #normalization\n",
    "    result = ((result - result.min())/(result.max() - result.min()) - 0.5)*2.0\n",
    "    \n",
    "    #PCA\n",
    "    if n_pca == 0:\n",
    "        return result\n",
    "    \n",
    "    pca = PCA(n_components=n_pca)\n",
    "    principalComponents = pca.fit_transform(result)\n",
    "    result = pd.DataFrame(principalComponents)\n",
    "    \n",
    "    return result\n",
    "   \n",
    "\n",
    "XX = make_good_data_frame(data, 0)\n",
    "XX.head()"
   ]
  },
  {
   "cell_type": "code",
   "execution_count": null,
   "metadata": {},
   "outputs": [],
   "source": [
    "XX.nunique()"
   ]
  },
  {
   "cell_type": "markdown",
   "metadata": {},
   "source": [
    "New training and test dataframes"
   ]
  },
  {
   "cell_type": "code",
   "execution_count": 21,
   "metadata": {},
   "outputs": [],
   "source": [
    "import numpy as np\n",
    "from sklearn.model_selection import train_test_split\n",
    "\n",
    "X_train, X_test, y_train, y_test = train_test_split(XX, YY, test_size = 0.2, random_state = 2)"
   ]
  },
  {
   "cell_type": "markdown",
   "metadata": {},
   "source": [
    "# ML section"
   ]
  },
  {
   "cell_type": "code",
   "execution_count": 22,
   "metadata": {},
   "outputs": [],
   "source": [
    "from sklearn.metrics import confusion_matrix\n",
    "from sklearn.model_selection import cross_val_score"
   ]
  },
  {
   "cell_type": "markdown",
   "metadata": {},
   "source": [
    "1) Logistic Regression"
   ]
  },
  {
   "cell_type": "code",
   "execution_count": 23,
   "metadata": {},
   "outputs": [
    {
     "data": {
      "text/plain": [
       "LogisticRegression(C=1.0, class_weight=None, dual=False, fit_intercept=True,\n",
       "                   intercept_scaling=1, l1_ratio=None, max_iter=1000,\n",
       "                   multi_class='warn', n_jobs=None, penalty='l2',\n",
       "                   random_state=0, solver='lbfgs', tol=0.0001, verbose=0,\n",
       "                   warm_start=False)"
      ]
     },
     "execution_count": 23,
     "metadata": {},
     "output_type": "execute_result"
    }
   ],
   "source": [
    "from sklearn.linear_model import LogisticRegression\n",
    "\n",
    "LR_clf = LogisticRegression(random_state=0, solver='lbfgs', max_iter = 1000)\n",
    "LR_clf.fit(X_train, y_train)"
   ]
  },
  {
   "cell_type": "code",
   "execution_count": 24,
   "metadata": {},
   "outputs": [
    {
     "name": "stdout",
     "output_type": "stream",
     "text": [
      "LR score training =  0.736\n"
     ]
    },
    {
     "data": {
      "text/plain": [
       "array([[151590,  15314],\n",
       "       [ 48036,  25060]])"
      ]
     },
     "execution_count": 24,
     "metadata": {},
     "output_type": "execute_result"
    }
   ],
   "source": [
    "lr_z_train = LR_clf.predict(X_train)\n",
    "print(\"LR score training = \", round(LR_clf.score(X_train, y_train),3))\n",
    "confusion_matrix(y_train, lr_z_train)"
   ]
  },
  {
   "cell_type": "code",
   "execution_count": 25,
   "metadata": {},
   "outputs": [
    {
     "name": "stdout",
     "output_type": "stream",
     "text": [
      "LR score test =  0.735\n"
     ]
    },
    {
     "data": {
      "text/plain": [
       "array([[37650,  3850],\n",
       "       [12060,  6440]])"
      ]
     },
     "execution_count": 25,
     "metadata": {},
     "output_type": "execute_result"
    }
   ],
   "source": [
    "lr_z_test = LR_clf.predict(X_test)\n",
    "print(\"LR score test = \", round(LR_clf.score(X_test, y_test),3))\n",
    "confusion_matrix(y_test, lr_z_test)"
   ]
  },
  {
   "cell_type": "code",
   "execution_count": 26,
   "metadata": {},
   "outputs": [
    {
     "name": "stdout",
     "output_type": "stream",
     "text": [
      "[0.73408777 0.735      0.73588333 0.73583333 0.73714562]\n"
     ]
    }
   ],
   "source": [
    "print(cross_val_score(LR_clf, XX, YY, cv=5))"
   ]
  },
  {
   "cell_type": "markdown",
   "metadata": {},
   "source": [
    "2) K Neighbors Classifier"
   ]
  },
  {
   "cell_type": "code",
   "execution_count": null,
   "metadata": {},
   "outputs": [],
   "source": [
    "from sklearn.neighbors import KNeighborsClassifier\n",
    "\n",
    "k_clf = KNeighborsClassifier(n_neighbors=3)\n",
    "k_clf.fit(X_train, y_train)"
   ]
  },
  {
   "cell_type": "code",
   "execution_count": null,
   "metadata": {},
   "outputs": [],
   "source": [
    "k_z_train = k_clf.predict(X_train)\n",
    "print(\"K-N score training = \", round(k_clf.score(X_train, y_train),3))\n",
    "confusion_matrix(y_train, k_z_train)"
   ]
  },
  {
   "cell_type": "code",
   "execution_count": null,
   "metadata": {},
   "outputs": [],
   "source": [
    "k_z_test = k_clf.predict(X_test)\n",
    "print(\"K-N score test = \", round(k_clf.score(X_test, y_test),3))\n",
    "confusion_matrix(y_test, k_z_test)"
   ]
  },
  {
   "cell_type": "markdown",
   "metadata": {},
   "source": [
    "3) Random Forest"
   ]
  },
  {
   "cell_type": "code",
   "execution_count": null,
   "metadata": {},
   "outputs": [],
   "source": [
    "from sklearn.ensemble import RandomForestClassifier\n",
    "\n",
    "\n",
    "rf_clf = RandomForestClassifier(n_estimators=100, max_depth=10, random_state=0)\n",
    "rf_clf.fit(X_train, y_train)"
   ]
  },
  {
   "cell_type": "code",
   "execution_count": null,
   "metadata": {},
   "outputs": [],
   "source": [
    "rf_z_train = rf_clf.predict(X_train)\n",
    "print(\"RF score training = \", round(rf_clf.score(X_train, y_train),3))\n",
    "confusion_matrix(y_train, rf_z_train)"
   ]
  },
  {
   "cell_type": "code",
   "execution_count": null,
   "metadata": {},
   "outputs": [],
   "source": [
    "rf_z_test = rf_clf.predict(X_test)\n",
    "print(\"RF score test = \", round(rf_clf.score(X_test, y_test),3))\n",
    "confusion_matrix(y_test, rf_z_test)"
   ]
  },
  {
   "cell_type": "markdown",
   "metadata": {},
   "source": [
    "\n",
    "4) Support vector machine"
   ]
  },
  {
   "cell_type": "code",
   "execution_count": null,
   "metadata": {},
   "outputs": [],
   "source": [
    "from sklearn import svm\n",
    "\n",
    "svm_clf = svm.SVC(gamma='scale')\n",
    "svm_clf.fit(X_train, y_train)"
   ]
  },
  {
   "cell_type": "code",
   "execution_count": null,
   "metadata": {},
   "outputs": [],
   "source": [
    "sv_z_train = svm_clf.predict(X_train)\n",
    "print(\"SV score training = \", round(svm_clf.score(X_train, y_train),3))\n",
    "confusion_matrix(y_train, sv_z_train)"
   ]
  },
  {
   "cell_type": "code",
   "execution_count": null,
   "metadata": {},
   "outputs": [],
   "source": [
    "sv_z_test = svm_clf.predict(X_test)\n",
    "print(\"SV score test = \", round(svm_clf.score(X_test, y_test),3))\n",
    "confusion_matrix(y_test, sv_z_test)"
   ]
  },
  {
   "cell_type": "markdown",
   "metadata": {},
   "source": [
    "# Submission"
   ]
  },
  {
   "cell_type": "code",
   "execution_count": 27,
   "metadata": {},
   "outputs": [
    {
     "data": {
      "text/html": [
       "<div>\n",
       "<style scoped>\n",
       "    .dataframe tbody tr th:only-of-type {\n",
       "        vertical-align: middle;\n",
       "    }\n",
       "\n",
       "    .dataframe tbody tr th {\n",
       "        vertical-align: top;\n",
       "    }\n",
       "\n",
       "    .dataframe thead th {\n",
       "        text-align: right;\n",
       "    }\n",
       "</style>\n",
       "<table border=\"1\" class=\"dataframe\">\n",
       "  <thead>\n",
       "    <tr style=\"text-align: right;\">\n",
       "      <th></th>\n",
       "      <th>bin_0</th>\n",
       "      <th>bin_1</th>\n",
       "      <th>bin_2</th>\n",
       "      <th>bin_3_T</th>\n",
       "      <th>bin_4_Y</th>\n",
       "      <th>nom_0_Green</th>\n",
       "      <th>nom_0_Red</th>\n",
       "      <th>nom_1_Polygon</th>\n",
       "      <th>nom_1_Square</th>\n",
       "      <th>nom_1_Star</th>\n",
       "      <th>...</th>\n",
       "      <th>9</th>\n",
       "      <th>10</th>\n",
       "      <th>11</th>\n",
       "      <th>12</th>\n",
       "      <th>nom_5</th>\n",
       "      <th>nom_6</th>\n",
       "      <th>nom_7</th>\n",
       "      <th>nom_8</th>\n",
       "      <th>nom_9</th>\n",
       "      <th>ord_5</th>\n",
       "    </tr>\n",
       "  </thead>\n",
       "  <tbody>\n",
       "    <tr>\n",
       "      <th>0</th>\n",
       "      <td>-1.0</td>\n",
       "      <td>-1.0</td>\n",
       "      <td>1.0</td>\n",
       "      <td>1.0</td>\n",
       "      <td>1.0</td>\n",
       "      <td>-1.0</td>\n",
       "      <td>-1.0</td>\n",
       "      <td>-1.0</td>\n",
       "      <td>-1.0</td>\n",
       "      <td>-1.0</td>\n",
       "      <td>...</td>\n",
       "      <td>-1.0</td>\n",
       "      <td>-1.0</td>\n",
       "      <td>1.0</td>\n",
       "      <td>-1.0</td>\n",
       "      <td>-0.936089</td>\n",
       "      <td>0.226999</td>\n",
       "      <td>-0.353307</td>\n",
       "      <td>0.226973</td>\n",
       "      <td>-0.529102</td>\n",
       "      <td>-0.959911</td>\n",
       "    </tr>\n",
       "    <tr>\n",
       "      <th>1</th>\n",
       "      <td>-1.0</td>\n",
       "      <td>-1.0</td>\n",
       "      <td>-1.0</td>\n",
       "      <td>1.0</td>\n",
       "      <td>-1.0</td>\n",
       "      <td>-1.0</td>\n",
       "      <td>1.0</td>\n",
       "      <td>-1.0</td>\n",
       "      <td>1.0</td>\n",
       "      <td>-1.0</td>\n",
       "      <td>...</td>\n",
       "      <td>-1.0</td>\n",
       "      <td>-1.0</td>\n",
       "      <td>-1.0</td>\n",
       "      <td>-1.0</td>\n",
       "      <td>0.309258</td>\n",
       "      <td>-0.790145</td>\n",
       "      <td>-0.855617</td>\n",
       "      <td>-0.448047</td>\n",
       "      <td>-0.684951</td>\n",
       "      <td>0.688938</td>\n",
       "    </tr>\n",
       "    <tr>\n",
       "      <th>2</th>\n",
       "      <td>1.0</td>\n",
       "      <td>-1.0</td>\n",
       "      <td>1.0</td>\n",
       "      <td>-1.0</td>\n",
       "      <td>1.0</td>\n",
       "      <td>-1.0</td>\n",
       "      <td>-1.0</td>\n",
       "      <td>-1.0</td>\n",
       "      <td>1.0</td>\n",
       "      <td>-1.0</td>\n",
       "      <td>...</td>\n",
       "      <td>-1.0</td>\n",
       "      <td>-1.0</td>\n",
       "      <td>-1.0</td>\n",
       "      <td>1.0</td>\n",
       "      <td>-0.318000</td>\n",
       "      <td>-0.750736</td>\n",
       "      <td>-0.691678</td>\n",
       "      <td>0.432343</td>\n",
       "      <td>-0.131334</td>\n",
       "      <td>-0.237565</td>\n",
       "    </tr>\n",
       "    <tr>\n",
       "      <th>3</th>\n",
       "      <td>-1.0</td>\n",
       "      <td>-1.0</td>\n",
       "      <td>1.0</td>\n",
       "      <td>1.0</td>\n",
       "      <td>1.0</td>\n",
       "      <td>-1.0</td>\n",
       "      <td>1.0</td>\n",
       "      <td>-1.0</td>\n",
       "      <td>-1.0</td>\n",
       "      <td>1.0</td>\n",
       "      <td>...</td>\n",
       "      <td>-1.0</td>\n",
       "      <td>-1.0</td>\n",
       "      <td>-1.0</td>\n",
       "      <td>-1.0</td>\n",
       "      <td>0.560093</td>\n",
       "      <td>0.300584</td>\n",
       "      <td>-0.621728</td>\n",
       "      <td>-0.910999</td>\n",
       "      <td>0.420855</td>\n",
       "      <td>-0.612472</td>\n",
       "    </tr>\n",
       "    <tr>\n",
       "      <th>4</th>\n",
       "      <td>-1.0</td>\n",
       "      <td>1.0</td>\n",
       "      <td>1.0</td>\n",
       "      <td>-1.0</td>\n",
       "      <td>-1.0</td>\n",
       "      <td>-1.0</td>\n",
       "      <td>1.0</td>\n",
       "      <td>-1.0</td>\n",
       "      <td>-1.0</td>\n",
       "      <td>-1.0</td>\n",
       "      <td>...</td>\n",
       "      <td>-1.0</td>\n",
       "      <td>-1.0</td>\n",
       "      <td>1.0</td>\n",
       "      <td>-1.0</td>\n",
       "      <td>0.826024</td>\n",
       "      <td>0.186299</td>\n",
       "      <td>0.281435</td>\n",
       "      <td>0.946266</td>\n",
       "      <td>0.175671</td>\n",
       "      <td>-0.357090</td>\n",
       "    </tr>\n",
       "  </tbody>\n",
       "</table>\n",
       "<p>5 rows × 53 columns</p>\n",
       "</div>"
      ],
      "text/plain": [
       "   bin_0  bin_1  bin_2  bin_3_T  bin_4_Y  nom_0_Green  nom_0_Red  \\\n",
       "0   -1.0   -1.0    1.0      1.0      1.0         -1.0       -1.0   \n",
       "1   -1.0   -1.0   -1.0      1.0     -1.0         -1.0        1.0   \n",
       "2    1.0   -1.0    1.0     -1.0      1.0         -1.0       -1.0   \n",
       "3   -1.0   -1.0    1.0      1.0      1.0         -1.0        1.0   \n",
       "4   -1.0    1.0    1.0     -1.0     -1.0         -1.0        1.0   \n",
       "\n",
       "   nom_1_Polygon  nom_1_Square  nom_1_Star  ...    9   10   11   12     nom_5  \\\n",
       "0           -1.0          -1.0        -1.0  ... -1.0 -1.0  1.0 -1.0 -0.936089   \n",
       "1           -1.0           1.0        -1.0  ... -1.0 -1.0 -1.0 -1.0  0.309258   \n",
       "2           -1.0           1.0        -1.0  ... -1.0 -1.0 -1.0  1.0 -0.318000   \n",
       "3           -1.0          -1.0         1.0  ... -1.0 -1.0 -1.0 -1.0  0.560093   \n",
       "4           -1.0          -1.0        -1.0  ... -1.0 -1.0  1.0 -1.0  0.826024   \n",
       "\n",
       "      nom_6     nom_7     nom_8     nom_9     ord_5  \n",
       "0  0.226999 -0.353307  0.226973 -0.529102 -0.959911  \n",
       "1 -0.790145 -0.855617 -0.448047 -0.684951  0.688938  \n",
       "2 -0.750736 -0.691678  0.432343 -0.131334 -0.237565  \n",
       "3  0.300584 -0.621728 -0.910999  0.420855 -0.612472  \n",
       "4  0.186299  0.281435  0.946266  0.175671 -0.357090  \n",
       "\n",
       "[5 rows x 53 columns]"
      ]
     },
     "execution_count": 27,
     "metadata": {},
     "output_type": "execute_result"
    }
   ],
   "source": [
    "test_data = pd.read_csv('test.csv')\n",
    "\n",
    "XXt = make_good_data_frame(test_data, 0)\n",
    "\n",
    "XXt.head()"
   ]
  },
  {
   "cell_type": "code",
   "execution_count": 28,
   "metadata": {},
   "outputs": [
    {
     "data": {
      "text/plain": [
       "array([0, 0, 0, ..., 0, 0, 0])"
      ]
     },
     "execution_count": 28,
     "metadata": {},
     "output_type": "execute_result"
    }
   ],
   "source": [
    "xxt_prediction = LR_clf.predict(XXt)\n",
    "xxt_prediction"
   ]
  },
  {
   "cell_type": "code",
   "execution_count": 29,
   "metadata": {},
   "outputs": [
    {
     "data": {
      "text/html": [
       "<div>\n",
       "<style scoped>\n",
       "    .dataframe tbody tr th:only-of-type {\n",
       "        vertical-align: middle;\n",
       "    }\n",
       "\n",
       "    .dataframe tbody tr th {\n",
       "        vertical-align: top;\n",
       "    }\n",
       "\n",
       "    .dataframe thead th {\n",
       "        text-align: right;\n",
       "    }\n",
       "</style>\n",
       "<table border=\"1\" class=\"dataframe\">\n",
       "  <thead>\n",
       "    <tr style=\"text-align: right;\">\n",
       "      <th></th>\n",
       "      <th>id</th>\n",
       "      <th>target</th>\n",
       "    </tr>\n",
       "  </thead>\n",
       "  <tbody>\n",
       "    <tr>\n",
       "      <th>0</th>\n",
       "      <td>300000</td>\n",
       "      <td>0.0</td>\n",
       "    </tr>\n",
       "    <tr>\n",
       "      <th>1</th>\n",
       "      <td>300001</td>\n",
       "      <td>0.0</td>\n",
       "    </tr>\n",
       "    <tr>\n",
       "      <th>2</th>\n",
       "      <td>300002</td>\n",
       "      <td>0.0</td>\n",
       "    </tr>\n",
       "    <tr>\n",
       "      <th>3</th>\n",
       "      <td>300003</td>\n",
       "      <td>0.0</td>\n",
       "    </tr>\n",
       "    <tr>\n",
       "      <th>4</th>\n",
       "      <td>300004</td>\n",
       "      <td>1.0</td>\n",
       "    </tr>\n",
       "  </tbody>\n",
       "</table>\n",
       "</div>"
      ],
      "text/plain": [
       "       id  target\n",
       "0  300000     0.0\n",
       "1  300001     0.0\n",
       "2  300002     0.0\n",
       "3  300003     0.0\n",
       "4  300004     1.0"
      ]
     },
     "execution_count": 29,
     "metadata": {},
     "output_type": "execute_result"
    }
   ],
   "source": [
    "xxt_prediction = pd.DataFrame(xxt_prediction)\n",
    "xxt_prediction.columns = ['target']\n",
    "\n",
    "xxt_prediction['target'] = pd.to_numeric(xxt_prediction['target'], downcast='float')\n",
    "\n",
    "result = pd.merge(test_data, xxt_prediction, left_index=True, right_index=True)\n",
    "\n",
    "result[['id','target']].head()"
   ]
  },
  {
   "cell_type": "code",
   "execution_count": 30,
   "metadata": {},
   "outputs": [],
   "source": [
    "result[['id','target']].to_csv(\"submission.csv\", index=False)"
   ]
  }
 ],
 "metadata": {
  "kernelspec": {
   "display_name": "Python 3",
   "language": "python",
   "name": "python3"
  },
  "language_info": {
   "codemirror_mode": {
    "name": "ipython",
    "version": 3
   },
   "file_extension": ".py",
   "mimetype": "text/x-python",
   "name": "python",
   "nbconvert_exporter": "python",
   "pygments_lexer": "ipython3",
   "version": "3.6.8"
  }
 },
 "nbformat": 4,
 "nbformat_minor": 2
}
