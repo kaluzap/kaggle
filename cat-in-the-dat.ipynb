{
 "cells": [
  {
   "cell_type": "markdown",
   "metadata": {},
   "source": [
    "# Loading libraries and data"
   ]
  },
  {
   "cell_type": "code",
   "execution_count": 1,
   "metadata": {},
   "outputs": [],
   "source": [
    "import pandas as pd\n",
    "import matplotlib.pyplot as plt\n",
    "from sklearn.decomposition import PCA"
   ]
  },
  {
   "cell_type": "code",
   "execution_count": 2,
   "metadata": {},
   "outputs": [
    {
     "name": "stdout",
     "output_type": "stream",
     "text": [
      "Fraction of 0:  0.29847 \n",
      "Fraction of 1:  0.30588\n"
     ]
    }
   ],
   "source": [
    "data = pd.read_csv('train.csv')#sample(frac=1, replace=True, random_state=2)\n",
    "\n",
    "#making the same proportion\n",
    "data0 = data[data.target == 0].sample(frac=0.43, replace=True, random_state=2)\n",
    "data1 = data[data.target == 1]\n",
    "\n",
    "frac0 = data0.shape[0]/data.shape[0]\n",
    "frac1 = data1.shape[0]/data.shape[0]\n",
    "\n",
    "print(\"Fraction of 0: \",frac0, \"\\nFraction of 1: \", frac1)\n",
    "\n",
    "data = pd.concat([data0, data1]).sample(frac=1.0, replace=True, random_state=2)\n",
    "\n",
    "data = data.reset_index(drop=True)\n"
   ]
  },
  {
   "cell_type": "markdown",
   "metadata": {},
   "source": [
    "# Data characteristics"
   ]
  },
  {
   "cell_type": "code",
   "execution_count": 3,
   "metadata": {},
   "outputs": [
    {
     "name": "stdout",
     "output_type": "stream",
     "text": [
      "Shape:  (181305, 25)\n"
     ]
    },
    {
     "data": {
      "text/html": [
       "<div>\n",
       "<style scoped>\n",
       "    .dataframe tbody tr th:only-of-type {\n",
       "        vertical-align: middle;\n",
       "    }\n",
       "\n",
       "    .dataframe tbody tr th {\n",
       "        vertical-align: top;\n",
       "    }\n",
       "\n",
       "    .dataframe thead th {\n",
       "        text-align: right;\n",
       "    }\n",
       "</style>\n",
       "<table border=\"1\" class=\"dataframe\">\n",
       "  <thead>\n",
       "    <tr style=\"text-align: right;\">\n",
       "      <th></th>\n",
       "      <th>id</th>\n",
       "      <th>bin_0</th>\n",
       "      <th>bin_1</th>\n",
       "      <th>bin_2</th>\n",
       "      <th>bin_3</th>\n",
       "      <th>bin_4</th>\n",
       "      <th>nom_0</th>\n",
       "      <th>nom_1</th>\n",
       "      <th>nom_2</th>\n",
       "      <th>nom_3</th>\n",
       "      <th>...</th>\n",
       "      <th>nom_9</th>\n",
       "      <th>ord_0</th>\n",
       "      <th>ord_1</th>\n",
       "      <th>ord_2</th>\n",
       "      <th>ord_3</th>\n",
       "      <th>ord_4</th>\n",
       "      <th>ord_5</th>\n",
       "      <th>day</th>\n",
       "      <th>month</th>\n",
       "      <th>target</th>\n",
       "    </tr>\n",
       "  </thead>\n",
       "  <tbody>\n",
       "    <tr>\n",
       "      <th>0</th>\n",
       "      <td>273783</td>\n",
       "      <td>0</td>\n",
       "      <td>0</td>\n",
       "      <td>1</td>\n",
       "      <td>T</td>\n",
       "      <td>Y</td>\n",
       "      <td>Red</td>\n",
       "      <td>Trapezoid</td>\n",
       "      <td>Snake</td>\n",
       "      <td>India</td>\n",
       "      <td>...</td>\n",
       "      <td>6e9491509</td>\n",
       "      <td>1</td>\n",
       "      <td>Novice</td>\n",
       "      <td>Freezing</td>\n",
       "      <td>i</td>\n",
       "      <td>Q</td>\n",
       "      <td>Bd</td>\n",
       "      <td>4</td>\n",
       "      <td>9</td>\n",
       "      <td>0</td>\n",
       "    </tr>\n",
       "    <tr>\n",
       "      <th>1</th>\n",
       "      <td>36912</td>\n",
       "      <td>0</td>\n",
       "      <td>0</td>\n",
       "      <td>1</td>\n",
       "      <td>F</td>\n",
       "      <td>N</td>\n",
       "      <td>Green</td>\n",
       "      <td>Star</td>\n",
       "      <td>Axolotl</td>\n",
       "      <td>Russia</td>\n",
       "      <td>...</td>\n",
       "      <td>26e51923f</td>\n",
       "      <td>2</td>\n",
       "      <td>Novice</td>\n",
       "      <td>Lava Hot</td>\n",
       "      <td>d</td>\n",
       "      <td>L</td>\n",
       "      <td>qo</td>\n",
       "      <td>3</td>\n",
       "      <td>3</td>\n",
       "      <td>1</td>\n",
       "    </tr>\n",
       "    <tr>\n",
       "      <th>2</th>\n",
       "      <td>20838</td>\n",
       "      <td>1</td>\n",
       "      <td>0</td>\n",
       "      <td>1</td>\n",
       "      <td>F</td>\n",
       "      <td>N</td>\n",
       "      <td>Red</td>\n",
       "      <td>Circle</td>\n",
       "      <td>Hamster</td>\n",
       "      <td>Canada</td>\n",
       "      <td>...</td>\n",
       "      <td>ccd9b1eba</td>\n",
       "      <td>1</td>\n",
       "      <td>Master</td>\n",
       "      <td>Warm</td>\n",
       "      <td>g</td>\n",
       "      <td>P</td>\n",
       "      <td>aO</td>\n",
       "      <td>2</td>\n",
       "      <td>10</td>\n",
       "      <td>1</td>\n",
       "    </tr>\n",
       "    <tr>\n",
       "      <th>3</th>\n",
       "      <td>281645</td>\n",
       "      <td>0</td>\n",
       "      <td>0</td>\n",
       "      <td>0</td>\n",
       "      <td>F</td>\n",
       "      <td>Y</td>\n",
       "      <td>Red</td>\n",
       "      <td>Star</td>\n",
       "      <td>Dog</td>\n",
       "      <td>China</td>\n",
       "      <td>...</td>\n",
       "      <td>8036de9b5</td>\n",
       "      <td>1</td>\n",
       "      <td>Novice</td>\n",
       "      <td>Boiling Hot</td>\n",
       "      <td>g</td>\n",
       "      <td>X</td>\n",
       "      <td>sD</td>\n",
       "      <td>1</td>\n",
       "      <td>1</td>\n",
       "      <td>1</td>\n",
       "    </tr>\n",
       "    <tr>\n",
       "      <th>4</th>\n",
       "      <td>236929</td>\n",
       "      <td>0</td>\n",
       "      <td>1</td>\n",
       "      <td>0</td>\n",
       "      <td>F</td>\n",
       "      <td>N</td>\n",
       "      <td>Red</td>\n",
       "      <td>Circle</td>\n",
       "      <td>Snake</td>\n",
       "      <td>Canada</td>\n",
       "      <td>...</td>\n",
       "      <td>e8b921583</td>\n",
       "      <td>2</td>\n",
       "      <td>Grandmaster</td>\n",
       "      <td>Warm</td>\n",
       "      <td>j</td>\n",
       "      <td>Q</td>\n",
       "      <td>Zq</td>\n",
       "      <td>4</td>\n",
       "      <td>2</td>\n",
       "      <td>1</td>\n",
       "    </tr>\n",
       "  </tbody>\n",
       "</table>\n",
       "<p>5 rows × 25 columns</p>\n",
       "</div>"
      ],
      "text/plain": [
       "       id  bin_0  bin_1  bin_2 bin_3 bin_4  nom_0      nom_1    nom_2   nom_3  \\\n",
       "0  273783      0      0      1     T     Y    Red  Trapezoid    Snake   India   \n",
       "1   36912      0      0      1     F     N  Green       Star  Axolotl  Russia   \n",
       "2   20838      1      0      1     F     N    Red     Circle  Hamster  Canada   \n",
       "3  281645      0      0      0     F     Y    Red       Star      Dog   China   \n",
       "4  236929      0      1      0     F     N    Red     Circle    Snake  Canada   \n",
       "\n",
       "   ...      nom_9 ord_0        ord_1        ord_2 ord_3 ord_4  ord_5 day  \\\n",
       "0  ...  6e9491509     1       Novice     Freezing     i     Q     Bd   4   \n",
       "1  ...  26e51923f     2       Novice     Lava Hot     d     L     qo   3   \n",
       "2  ...  ccd9b1eba     1       Master         Warm     g     P     aO   2   \n",
       "3  ...  8036de9b5     1       Novice  Boiling Hot     g     X     sD   1   \n",
       "4  ...  e8b921583     2  Grandmaster         Warm     j     Q     Zq   4   \n",
       "\n",
       "  month target  \n",
       "0     9      0  \n",
       "1     3      1  \n",
       "2    10      1  \n",
       "3     1      1  \n",
       "4     2      1  \n",
       "\n",
       "[5 rows x 25 columns]"
      ]
     },
     "execution_count": 3,
     "metadata": {},
     "output_type": "execute_result"
    }
   ],
   "source": [
    "print(\"Shape: \", data.shape)\n",
    "data.head()"
   ]
  },
  {
   "cell_type": "code",
   "execution_count": null,
   "metadata": {},
   "outputs": [],
   "source": [
    "data.nunique()"
   ]
  },
  {
   "cell_type": "code",
   "execution_count": null,
   "metadata": {},
   "outputs": [],
   "source": [
    "data.dtypes"
   ]
  },
  {
   "cell_type": "markdown",
   "metadata": {},
   "source": [
    "# Data preprocessing and cleaning"
   ]
  },
  {
   "cell_type": "code",
   "execution_count": 4,
   "metadata": {},
   "outputs": [],
   "source": [
    "#columns that we can use directly\n",
    "ready_columns = ['bin_0', 'bin_1', 'bin_2']\n",
    "\n",
    "#categorical columns with string data\n",
    "str_categorical_columns = ['bin_3', 'bin_4', 'nom_0', 'nom_1', 'nom_2', 'nom_3', 'nom_4'] \n",
    "\n",
    "#ordinal columns\n",
    "int_ordinal_columns = ['ord_0']\n",
    "str_ordinal_columns = ['ord_1', 'ord_2', 'ord_3', 'ord_4']\n",
    "\n",
    "\n",
    "\n",
    "#categorical columns with integer data\n",
    "int_categorical_columns = ['day', 'month']\n",
    "\n",
    "#columns wiht integer alues\n",
    "real_columns = ['nom_5', 'nom_6', 'nom_7', 'nom_8', 'nom_9']\n",
    "\n",
    "#column ord_5 is processed alone.\n",
    "\n",
    "YY = data['target']"
   ]
  },
  {
   "cell_type": "markdown",
   "metadata": {},
   "source": [
    "Creating a new dataframe for ML"
   ]
  },
  {
   "cell_type": "code",
   "execution_count": 26,
   "metadata": {},
   "outputs": [
    {
     "data": {
      "text/html": [
       "<div>\n",
       "<style scoped>\n",
       "    .dataframe tbody tr th:only-of-type {\n",
       "        vertical-align: middle;\n",
       "    }\n",
       "\n",
       "    .dataframe tbody tr th {\n",
       "        vertical-align: top;\n",
       "    }\n",
       "\n",
       "    .dataframe thead th {\n",
       "        text-align: right;\n",
       "    }\n",
       "</style>\n",
       "<table border=\"1\" class=\"dataframe\">\n",
       "  <thead>\n",
       "    <tr style=\"text-align: right;\">\n",
       "      <th></th>\n",
       "      <th>bin_0</th>\n",
       "      <th>bin_1</th>\n",
       "      <th>bin_2</th>\n",
       "      <th>bin_3_T</th>\n",
       "      <th>bin_4_Y</th>\n",
       "      <th>nom_0_Green</th>\n",
       "      <th>nom_0_Red</th>\n",
       "      <th>nom_1_Polygon</th>\n",
       "      <th>nom_1_Square</th>\n",
       "      <th>nom_1_Star</th>\n",
       "      <th>...</th>\n",
       "      <th>9</th>\n",
       "      <th>10</th>\n",
       "      <th>11</th>\n",
       "      <th>12</th>\n",
       "      <th>nom_5</th>\n",
       "      <th>nom_6</th>\n",
       "      <th>nom_7</th>\n",
       "      <th>nom_8</th>\n",
       "      <th>nom_9</th>\n",
       "      <th>ord_5</th>\n",
       "    </tr>\n",
       "  </thead>\n",
       "  <tbody>\n",
       "    <tr>\n",
       "      <th>0</th>\n",
       "      <td>-1.0</td>\n",
       "      <td>-1.0</td>\n",
       "      <td>1.0</td>\n",
       "      <td>1.0</td>\n",
       "      <td>1.0</td>\n",
       "      <td>-1.0</td>\n",
       "      <td>1.0</td>\n",
       "      <td>-1.0</td>\n",
       "      <td>-1.0</td>\n",
       "      <td>-1.0</td>\n",
       "      <td>...</td>\n",
       "      <td>1.0</td>\n",
       "      <td>-1.0</td>\n",
       "      <td>-1.0</td>\n",
       "      <td>-1.0</td>\n",
       "      <td>-0.344325</td>\n",
       "      <td>0.178150</td>\n",
       "      <td>0.401933</td>\n",
       "      <td>0.620118</td>\n",
       "      <td>-0.136146</td>\n",
       "      <td>0.043059</td>\n",
       "    </tr>\n",
       "    <tr>\n",
       "      <th>1</th>\n",
       "      <td>-1.0</td>\n",
       "      <td>-1.0</td>\n",
       "      <td>1.0</td>\n",
       "      <td>-1.0</td>\n",
       "      <td>-1.0</td>\n",
       "      <td>1.0</td>\n",
       "      <td>-1.0</td>\n",
       "      <td>-1.0</td>\n",
       "      <td>-1.0</td>\n",
       "      <td>1.0</td>\n",
       "      <td>...</td>\n",
       "      <td>-1.0</td>\n",
       "      <td>-1.0</td>\n",
       "      <td>-1.0</td>\n",
       "      <td>-1.0</td>\n",
       "      <td>-0.437942</td>\n",
       "      <td>0.226999</td>\n",
       "      <td>-0.327020</td>\n",
       "      <td>0.449616</td>\n",
       "      <td>-0.696254</td>\n",
       "      <td>-0.373422</td>\n",
       "    </tr>\n",
       "    <tr>\n",
       "      <th>2</th>\n",
       "      <td>1.0</td>\n",
       "      <td>-1.0</td>\n",
       "      <td>1.0</td>\n",
       "      <td>-1.0</td>\n",
       "      <td>-1.0</td>\n",
       "      <td>-1.0</td>\n",
       "      <td>1.0</td>\n",
       "      <td>-1.0</td>\n",
       "      <td>-1.0</td>\n",
       "      <td>-1.0</td>\n",
       "      <td>...</td>\n",
       "      <td>-1.0</td>\n",
       "      <td>1.0</td>\n",
       "      <td>-1.0</td>\n",
       "      <td>-1.0</td>\n",
       "      <td>0.936982</td>\n",
       "      <td>-0.941429</td>\n",
       "      <td>-0.827289</td>\n",
       "      <td>-0.778288</td>\n",
       "      <td>0.600425</td>\n",
       "      <td>-0.971789</td>\n",
       "    </tr>\n",
       "    <tr>\n",
       "      <th>3</th>\n",
       "      <td>-1.0</td>\n",
       "      <td>-1.0</td>\n",
       "      <td>-1.0</td>\n",
       "      <td>-1.0</td>\n",
       "      <td>1.0</td>\n",
       "      <td>-1.0</td>\n",
       "      <td>1.0</td>\n",
       "      <td>-1.0</td>\n",
       "      <td>-1.0</td>\n",
       "      <td>1.0</td>\n",
       "      <td>...</td>\n",
       "      <td>-1.0</td>\n",
       "      <td>-1.0</td>\n",
       "      <td>-1.0</td>\n",
       "      <td>-1.0</td>\n",
       "      <td>-0.120732</td>\n",
       "      <td>0.440385</td>\n",
       "      <td>-0.436127</td>\n",
       "      <td>-0.386356</td>\n",
       "      <td>0.001636</td>\n",
       "      <td>-0.285078</td>\n",
       "    </tr>\n",
       "    <tr>\n",
       "      <th>4</th>\n",
       "      <td>-1.0</td>\n",
       "      <td>1.0</td>\n",
       "      <td>-1.0</td>\n",
       "      <td>-1.0</td>\n",
       "      <td>-1.0</td>\n",
       "      <td>-1.0</td>\n",
       "      <td>1.0</td>\n",
       "      <td>-1.0</td>\n",
       "      <td>-1.0</td>\n",
       "      <td>-1.0</td>\n",
       "      <td>...</td>\n",
       "      <td>-1.0</td>\n",
       "      <td>-1.0</td>\n",
       "      <td>-1.0</td>\n",
       "      <td>-1.0</td>\n",
       "      <td>0.119677</td>\n",
       "      <td>0.744468</td>\n",
       "      <td>-0.797221</td>\n",
       "      <td>0.543121</td>\n",
       "      <td>0.818207</td>\n",
       "      <td>0.979213</td>\n",
       "    </tr>\n",
       "  </tbody>\n",
       "</table>\n",
       "<p>5 rows × 53 columns</p>\n",
       "</div>"
      ],
      "text/plain": [
       "   bin_0  bin_1  bin_2  bin_3_T  bin_4_Y  nom_0_Green  nom_0_Red  \\\n",
       "0   -1.0   -1.0    1.0      1.0      1.0         -1.0        1.0   \n",
       "1   -1.0   -1.0    1.0     -1.0     -1.0          1.0       -1.0   \n",
       "2    1.0   -1.0    1.0     -1.0     -1.0         -1.0        1.0   \n",
       "3   -1.0   -1.0   -1.0     -1.0      1.0         -1.0        1.0   \n",
       "4   -1.0    1.0   -1.0     -1.0     -1.0         -1.0        1.0   \n",
       "\n",
       "   nom_1_Polygon  nom_1_Square  nom_1_Star  ...    9   10   11   12     nom_5  \\\n",
       "0           -1.0          -1.0        -1.0  ...  1.0 -1.0 -1.0 -1.0 -0.344325   \n",
       "1           -1.0          -1.0         1.0  ... -1.0 -1.0 -1.0 -1.0 -0.437942   \n",
       "2           -1.0          -1.0        -1.0  ... -1.0  1.0 -1.0 -1.0  0.936982   \n",
       "3           -1.0          -1.0         1.0  ... -1.0 -1.0 -1.0 -1.0 -0.120732   \n",
       "4           -1.0          -1.0        -1.0  ... -1.0 -1.0 -1.0 -1.0  0.119677   \n",
       "\n",
       "      nom_6     nom_7     nom_8     nom_9     ord_5  \n",
       "0  0.178150  0.401933  0.620118 -0.136146  0.043059  \n",
       "1  0.226999 -0.327020  0.449616 -0.696254 -0.373422  \n",
       "2 -0.941429 -0.827289 -0.778288  0.600425 -0.971789  \n",
       "3  0.440385 -0.436127 -0.386356  0.001636 -0.285078  \n",
       "4  0.744468 -0.797221  0.543121  0.818207  0.979213  \n",
       "\n",
       "[5 rows x 53 columns]"
      ]
     },
     "execution_count": 26,
     "metadata": {},
     "output_type": "execute_result"
    }
   ],
   "source": [
    "#function to process the data\n",
    "import string\n",
    "\n",
    "def make_good_data_frame(in_data, n_pca = 0):\n",
    "    \n",
    "    lst_df = []\n",
    "    \n",
    "    #ready dataframe RD\n",
    "    temp = in_data[ready_columns].copy()\n",
    "    lst_df.append(temp)\n",
    "    \n",
    "    \n",
    "    #String categorical dataframe SCD\n",
    "    temp = pd.get_dummies(in_data[str_categorical_columns], drop_first=True)\n",
    "    lst_df.append(temp)\n",
    "    \n",
    "    \n",
    "    #ordinal columns\n",
    "    lst_df.append(in_data['ord_0'])\n",
    "    mapping = {\"ord_1\": {'Grandmaster':4, 'Expert':2, 'Novice':0, 'Contributor':1, 'Master':3},\n",
    "               \"ord_2\": {'Cold':1, 'Hot':3, 'Lava Hot':5, 'Boiling Hot':4, 'Freezing':0, 'Warm':2},\n",
    "               \"ord_3\": {'a':1, 'c':3, 'j':10, 'g':7, 'l':12, 'i':9, 'h':8, 'o':15, 'k':11, 'd':4, 'e':5, 'b':2, 'f':6, 'n':14, 'm':13},\n",
    "               \"ord_4\": {'B':2, 'I':9, 'F':6, 'Z':26, 'Q':17, 'U':21, 'X':24, 'G':7, 'E':5, 'A':1, 'S':19, 'P':16, 'D':4, 'J':10, 'W':23, 'R':18, 'K':11, 'H':8,\n",
    "                        'O':15, 'L':12, 'V':22, 'Y':25, 'T':20, 'M':13, 'C':3, 'N':14}}\n",
    "    temp = in_data[str_ordinal_columns].replace(mapping).copy()\n",
    "    lst_df.append(temp)\n",
    "    \n",
    "    \n",
    "    #Integer categorical dataframe ICD\n",
    "    temp = pd.DataFrame(index = in_data.index)\n",
    "    for name in int_categorical_columns:\n",
    "        tt = pd.get_dummies(in_data[name], drop_first=True)\n",
    "        temp = pd.merge(temp, tt, left_index=True, right_index=True)\n",
    "    lst_df.append(temp)\n",
    "    \n",
    "    \n",
    "    #real columns\n",
    "    temp = pd.DataFrame(index = in_data.index)\n",
    "    for c in real_columns:\n",
    "        temp[c] = in_data[c].apply(lambda x : int(x, 16))\n",
    "    lst_df.append(temp)\n",
    "    \n",
    "    \n",
    "    #ord_5\n",
    "    temp = in_data['ord_5'].apply(lambda x : string.ascii_letters.index(x[0])*52 + string.ascii_letters.index(x[1])).copy()\n",
    "    lst_df.append(temp)\n",
    "    \n",
    "    \n",
    "    \n",
    "    #mergin all the dataframes\n",
    "    result = pd.DataFrame(index = in_data.index)\n",
    "    for x in lst_df:\n",
    "        result = pd.merge(result, x, left_index=True, right_index=True)\n",
    "    \n",
    "    #normalization\n",
    "    result = ((result - result.min())/(result.max() - result.min()) - 0.5)*2.0\n",
    "    \n",
    "    #PCA\n",
    "    if n_pca == 0:\n",
    "        return result\n",
    "    \n",
    "    pca = PCA(n_components=n_pca)\n",
    "    principalComponents = pca.fit_transform(result)\n",
    "    result = pd.DataFrame(principalComponents)\n",
    "    \n",
    "    return result\n",
    "   \n",
    "\n",
    "XX = make_good_data_frame(data, 0)\n",
    "XX.head()"
   ]
  },
  {
   "cell_type": "code",
   "execution_count": null,
   "metadata": {},
   "outputs": [],
   "source": [
    "XX.nunique()"
   ]
  },
  {
   "cell_type": "markdown",
   "metadata": {},
   "source": [
    "New training and test dataframes"
   ]
  },
  {
   "cell_type": "code",
   "execution_count": 28,
   "metadata": {},
   "outputs": [],
   "source": [
    "import numpy as np\n",
    "from sklearn.model_selection import train_test_split\n",
    "\n",
    "X_train, X_test, y_train, y_test = train_test_split(XX, YY, test_size = 0.2, random_state = 3)"
   ]
  },
  {
   "cell_type": "markdown",
   "metadata": {},
   "source": [
    "# ML section"
   ]
  },
  {
   "cell_type": "code",
   "execution_count": 29,
   "metadata": {},
   "outputs": [],
   "source": [
    "from sklearn.metrics import confusion_matrix\n",
    "from sklearn.model_selection import cross_val_score"
   ]
  },
  {
   "cell_type": "markdown",
   "metadata": {},
   "source": [
    "1) Logistic Regression"
   ]
  },
  {
   "cell_type": "code",
   "execution_count": 30,
   "metadata": {},
   "outputs": [
    {
     "data": {
      "text/plain": [
       "LogisticRegression(C=1.0, class_weight=None, dual=False, fit_intercept=True,\n",
       "                   intercept_scaling=1, l1_ratio=None, max_iter=1000,\n",
       "                   multi_class='warn', n_jobs=None, penalty='l2',\n",
       "                   random_state=0, solver='lbfgs', tol=0.0001, verbose=0,\n",
       "                   warm_start=False)"
      ]
     },
     "execution_count": 30,
     "metadata": {},
     "output_type": "execute_result"
    }
   ],
   "source": [
    "from sklearn.linear_model import LogisticRegression\n",
    "\n",
    "LR_clf = LogisticRegression(random_state=0, solver='lbfgs', max_iter = 1000)\n",
    "LR_clf.fit(X_train, y_train)"
   ]
  },
  {
   "cell_type": "code",
   "execution_count": 31,
   "metadata": {},
   "outputs": [
    {
     "name": "stdout",
     "output_type": "stream",
     "text": [
      "LR score training =  0.684\n"
     ]
    },
    {
     "data": {
      "text/plain": [
       "array([[48017, 23566],\n",
       "       [22299, 51162]])"
      ]
     },
     "execution_count": 31,
     "metadata": {},
     "output_type": "execute_result"
    }
   ],
   "source": [
    "lr_z_train = LR_clf.predict(X_train)\n",
    "print(\"LR score training = \", round(LR_clf.score(X_train, y_train),3))\n",
    "confusion_matrix(y_train, lr_z_train)"
   ]
  },
  {
   "cell_type": "code",
   "execution_count": 32,
   "metadata": {},
   "outputs": [
    {
     "name": "stdout",
     "output_type": "stream",
     "text": [
      "LR score test =  0.681\n"
     ]
    },
    {
     "data": {
      "text/plain": [
       "array([[12032,  5969],\n",
       "       [ 5588, 12672]])"
      ]
     },
     "execution_count": 32,
     "metadata": {},
     "output_type": "execute_result"
    }
   ],
   "source": [
    "lr_z_test = LR_clf.predict(X_test)\n",
    "print(\"LR score test = \", round(LR_clf.score(X_test, y_test),3))\n",
    "confusion_matrix(y_test, lr_z_test)"
   ]
  },
  {
   "cell_type": "code",
   "execution_count": 33,
   "metadata": {},
   "outputs": [
    {
     "name": "stdout",
     "output_type": "stream",
     "text": [
      "[0.68200871 0.68359946 0.68238603 0.68346157 0.68667954]\n"
     ]
    }
   ],
   "source": [
    "print(cross_val_score(LR_clf, XX, YY, cv=5))"
   ]
  },
  {
   "cell_type": "markdown",
   "metadata": {},
   "source": [
    "2) K Neighbors Classifier"
   ]
  },
  {
   "cell_type": "code",
   "execution_count": null,
   "metadata": {},
   "outputs": [],
   "source": [
    "from sklearn.neighbors import KNeighborsClassifier\n",
    "\n",
    "k_clf = KNeighborsClassifier(n_neighbors=3)\n",
    "k_clf.fit(X_train, y_train)"
   ]
  },
  {
   "cell_type": "code",
   "execution_count": null,
   "metadata": {},
   "outputs": [],
   "source": [
    "k_z_train = k_clf.predict(X_train)\n",
    "print(\"K-N score training = \", round(k_clf.score(X_train, y_train),3))\n",
    "confusion_matrix(y_train, k_z_train)"
   ]
  },
  {
   "cell_type": "code",
   "execution_count": null,
   "metadata": {},
   "outputs": [],
   "source": [
    "k_z_test = k_clf.predict(X_test)\n",
    "print(\"K-N score test = \", round(k_clf.score(X_test, y_test),3))\n",
    "confusion_matrix(y_test, k_z_test)"
   ]
  },
  {
   "cell_type": "markdown",
   "metadata": {},
   "source": [
    "3) Random Forest"
   ]
  },
  {
   "cell_type": "code",
   "execution_count": 18,
   "metadata": {},
   "outputs": [
    {
     "data": {
      "text/plain": [
       "RandomForestClassifier(bootstrap=True, class_weight=None, criterion='gini',\n",
       "                       max_depth=10, max_features='auto', max_leaf_nodes=None,\n",
       "                       min_impurity_decrease=0.0, min_impurity_split=None,\n",
       "                       min_samples_leaf=1, min_samples_split=2,\n",
       "                       min_weight_fraction_leaf=0.0, n_estimators=100,\n",
       "                       n_jobs=None, oob_score=False, random_state=0, verbose=0,\n",
       "                       warm_start=False)"
      ]
     },
     "execution_count": 18,
     "metadata": {},
     "output_type": "execute_result"
    }
   ],
   "source": [
    "from sklearn.ensemble import RandomForestClassifier\n",
    "\n",
    "\n",
    "rf_clf = RandomForestClassifier(n_estimators=100, max_depth=10, random_state=0)\n",
    "rf_clf.fit(X_train, y_train)"
   ]
  },
  {
   "cell_type": "code",
   "execution_count": 19,
   "metadata": {},
   "outputs": [
    {
     "name": "stdout",
     "output_type": "stream",
     "text": [
      "RF score training =  0.643\n"
     ]
    },
    {
     "data": {
      "text/plain": [
       "array([[42438, 29253],\n",
       "       [22469, 50884]])"
      ]
     },
     "execution_count": 19,
     "metadata": {},
     "output_type": "execute_result"
    }
   ],
   "source": [
    "rf_z_train = rf_clf.predict(X_train)\n",
    "print(\"RF score training = \", round(rf_clf.score(X_train, y_train),3))\n",
    "confusion_matrix(y_train, rf_z_train)"
   ]
  },
  {
   "cell_type": "code",
   "execution_count": 20,
   "metadata": {},
   "outputs": [
    {
     "name": "stdout",
     "output_type": "stream",
     "text": [
      "RF score test =  0.606\n"
     ]
    },
    {
     "data": {
      "text/plain": [
       "array([[ 9976,  7917],\n",
       "       [ 6356, 12012]])"
      ]
     },
     "execution_count": 20,
     "metadata": {},
     "output_type": "execute_result"
    }
   ],
   "source": [
    "rf_z_test = rf_clf.predict(X_test)\n",
    "print(\"RF score test = \", round(rf_clf.score(X_test, y_test),3))\n",
    "confusion_matrix(y_test, rf_z_test)"
   ]
  },
  {
   "cell_type": "code",
   "execution_count": 21,
   "metadata": {},
   "outputs": [
    {
     "name": "stdout",
     "output_type": "stream",
     "text": [
      "[0.60316585 0.60365131 0.60461653 0.60083837 0.60435742]\n"
     ]
    }
   ],
   "source": [
    "print(cross_val_score(rf_clf, XX, YY, cv=5))"
   ]
  },
  {
   "cell_type": "markdown",
   "metadata": {},
   "source": [
    "\n",
    "4) Support vector machine"
   ]
  },
  {
   "cell_type": "code",
   "execution_count": null,
   "metadata": {},
   "outputs": [],
   "source": [
    "from sklearn import svm\n",
    "\n",
    "svm_clf = svm.LinearSVC(max_iter = 1000)\n",
    "svm_clf.fit(X_train, y_train)"
   ]
  },
  {
   "cell_type": "code",
   "execution_count": null,
   "metadata": {},
   "outputs": [],
   "source": [
    "sv_z_train = svm_clf.predict(X_train)\n",
    "print(\"SV score training = \", round(svm_clf.score(X_train, y_train),3))\n",
    "confusion_matrix(y_train, sv_z_train)"
   ]
  },
  {
   "cell_type": "code",
   "execution_count": null,
   "metadata": {},
   "outputs": [],
   "source": [
    "sv_z_test = svm_clf.predict(X_test)\n",
    "print(\"SV score test = \", round(svm_clf.score(X_test, y_test),3))\n",
    "confusion_matrix(y_test, sv_z_test)"
   ]
  },
  {
   "cell_type": "code",
   "execution_count": null,
   "metadata": {},
   "outputs": [],
   "source": [
    "print(cross_val_score(svm_clf, XX, YY, cv=5))"
   ]
  },
  {
   "cell_type": "markdown",
   "metadata": {},
   "source": [
    "5) Bayes"
   ]
  },
  {
   "cell_type": "code",
   "execution_count": 22,
   "metadata": {},
   "outputs": [
    {
     "data": {
      "text/plain": [
       "GaussianNB(priors=None, var_smoothing=1e-09)"
      ]
     },
     "execution_count": 22,
     "metadata": {},
     "output_type": "execute_result"
    }
   ],
   "source": [
    "from sklearn.naive_bayes import GaussianNB\n",
    "nb_clf = GaussianNB()\n",
    "nb_clf.fit(X_train, y_train)"
   ]
  },
  {
   "cell_type": "code",
   "execution_count": 23,
   "metadata": {},
   "outputs": [
    {
     "name": "stdout",
     "output_type": "stream",
     "text": [
      "NB score training =  0.535\n"
     ]
    },
    {
     "data": {
      "text/plain": [
       "array([[32307, 39384],\n",
       "       [28105, 45248]])"
      ]
     },
     "execution_count": 23,
     "metadata": {},
     "output_type": "execute_result"
    }
   ],
   "source": [
    "nb_z_train = nb_clf.predict(X_train)\n",
    "print(\"NB score training = \", round(nb_clf.score(X_train, y_train),3))\n",
    "confusion_matrix(y_train, nb_z_train)"
   ]
  },
  {
   "cell_type": "code",
   "execution_count": 24,
   "metadata": {},
   "outputs": [
    {
     "name": "stdout",
     "output_type": "stream",
     "text": [
      "NB score test =  0.535\n"
     ]
    },
    {
     "data": {
      "text/plain": [
       "array([[ 8057,  9836],\n",
       "       [ 7043, 11325]])"
      ]
     },
     "execution_count": 24,
     "metadata": {},
     "output_type": "execute_result"
    }
   ],
   "source": [
    "nb_z_test = nb_clf.predict(X_test)\n",
    "print(\"NB score test = \", round(nb_clf.score(X_test, y_test),3))\n",
    "confusion_matrix(y_test, nb_z_test)"
   ]
  },
  {
   "cell_type": "code",
   "execution_count": 25,
   "metadata": {},
   "outputs": [
    {
     "name": "stdout",
     "output_type": "stream",
     "text": [
      "[0.53171364 0.53054246 0.53476187 0.53616834 0.53546608]\n"
     ]
    }
   ],
   "source": [
    "print(cross_val_score(nb_clf, XX, YY, cv=5))"
   ]
  },
  {
   "cell_type": "markdown",
   "metadata": {},
   "source": [
    "# Submission"
   ]
  },
  {
   "cell_type": "code",
   "execution_count": null,
   "metadata": {},
   "outputs": [],
   "source": [
    "test_data = pd.read_csv('test.csv')\n",
    "\n",
    "XXt = make_good_data_frame(test_data, 0)\n",
    "\n",
    "XXt.head()"
   ]
  },
  {
   "cell_type": "code",
   "execution_count": null,
   "metadata": {},
   "outputs": [],
   "source": [
    "xxt_prediction = rf_clf.predict(XXt)\n",
    "xxt_prediction"
   ]
  },
  {
   "cell_type": "code",
   "execution_count": null,
   "metadata": {},
   "outputs": [],
   "source": [
    "xxt_prediction = pd.DataFrame(xxt_prediction)\n",
    "xxt_prediction.columns = ['target']\n",
    "\n",
    "xxt_prediction['target'] = pd.to_numeric(xxt_prediction['target'], downcast='float')\n",
    "\n",
    "result = pd.merge(test_data, xxt_prediction, left_index=True, right_index=True)\n",
    "\n",
    "result[['id','target']].head()\n"
   ]
  },
  {
   "cell_type": "code",
   "execution_count": null,
   "metadata": {},
   "outputs": [],
   "source": [
    "result[['id','target']].to_csv(\"submission.csv\", index=False)"
   ]
  }
 ],
 "metadata": {
  "kernelspec": {
   "display_name": "Python 3",
   "language": "python",
   "name": "python3"
  },
  "language_info": {
   "codemirror_mode": {
    "name": "ipython",
    "version": 3
   },
   "file_extension": ".py",
   "mimetype": "text/x-python",
   "name": "python",
   "nbconvert_exporter": "python",
   "pygments_lexer": "ipython3",
   "version": "3.6.8"
  }
 },
 "nbformat": 4,
 "nbformat_minor": 2
}
